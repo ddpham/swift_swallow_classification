{
 "cells": [
  {
   "cell_type": "code",
   "execution_count": null,
   "id": "120e5045-1ffc-47bc-9a49-01fe5a86a98d",
   "metadata": {},
   "outputs": [],
   "source": [
    "import voila\n",
    "from ipywidgets import widgets\n",
    "from fastai.vision.all import *"
   ]
  },
  {
   "cell_type": "code",
   "execution_count": null,
   "id": "94c00320-63e0-41cd-9314-445bb4e6dae0",
   "metadata": {},
   "outputs": [],
   "source": [
    "# Tạo path và load model:\n",
    "fname = 'models/model_PR2.pkl'\n",
    "learner = load_learner(fname)\n",
    "\n",
    "# Tạo widgets cho upload & dự báo:\n",
    "image_upload = widgets.FileUpload()\n",
    "output_img = widgets.Output()\n",
    "label_img = widgets.Label()\n",
    "button_run = widgets.Button(description=\"Dự báo\")\n",
    "\n",
    "# Gán button vs việc chọn ảnh và dự báo:\n",
    "def on_click_classify(change):\n",
    "    # Lấy image cuối cùng của Upload:\n",
    "    img = PILImage.create(image_upload.data[-1])\n",
    "    \n",
    "    # Tạo widget show ảnh:\n",
    "    output_img.clear_output()\n",
    "    with output_img: display(img.to_thumb(128, 128))\n",
    "    output_img\n",
    "    \n",
    "    # Dự báo kết quả:\n",
    "    pred, pred_idx, probs = learner.predict(img)\n",
    "    \n",
    "    # Tạo widget dán nhãn & dán nhãn kết quả dự báo:\n",
    "    label_img.value = f\"Prediction: {pred}; Probability: {probs[pred_idx]: .04f}\"\n",
    "    \n",
    "button_run.on_click(on_click_classify)"
   ]
  },
  {
   "cell_type": "code",
   "execution_count": null,
   "id": "efdbb3ed-2320-4c52-90e7-803d774c786e",
   "metadata": {},
   "outputs": [
    {
     "data": {
      "application/vnd.jupyter.widget-view+json": {
       "model_id": "781a6847e38a4582841b6b43673a151a",
       "version_major": 2,
       "version_minor": 0
      },
      "text/plain": [
       "VBox(children=(Label(value='Chọn loại chim bạn muốn dự đoán:'), FileUpload(value={}, description='Upload'), Bu…"
      ]
     },
     "metadata": {},
     "output_type": "display_data"
    }
   ],
   "source": [
    "widgets.VBox([widgets.Label('Chọn loại chim bạn muốn dự đoán:'),\n",
    "      image_upload, button_run, output_img, label_img])"
   ]
  },
  {
   "cell_type": "code",
   "execution_count": null,
   "id": "8cdbb798-8ce7-4feb-b5e6-f9a7b10004ca",
   "metadata": {},
   "outputs": [],
   "source": []
  }
 ],
 "metadata": {
  "kernelspec": {
   "display_name": "Python 3",
   "language": "python",
   "name": "python3"
  }
 },
 "nbformat": 4,
 "nbformat_minor": 5
}
