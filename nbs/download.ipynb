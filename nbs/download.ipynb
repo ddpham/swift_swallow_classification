{
 "cells": [
  {
   "cell_type": "code",
   "execution_count": null,
   "metadata": {},
   "outputs": [],
   "source": [
    "from fastai.vision.all import *\n",
    "from nbdev.showdoc import *"
   ]
  },
  {
   "cell_type": "markdown",
   "metadata": {},
   "source": [
    "# Tạo tập dữ liệu\n",
    "> Đây là cách tạo tập dữ liệu được hướng dẫn từ khóa học cũ của khóa [`Practical Deep Learning for Coders`](https://course.fast.ai/)"
   ]
  },
  {
   "cell_type": "markdown",
   "metadata": {},
   "source": [
    "## Tải file có link download ảnh\n",
    "- sử dụng firefox hoặc google chrome.\n",
    "- chọn google search image rồi search : \"swallow bird\" -\"swift bird\" cho chim én/ \"swift bird\" -\"swallow bird\" cho chim yến (lưu ý chỉ có 1 dấu cách giữa cụm tự đầu tiên và dấu trừ `-`, còn dấu `-` sẽ viết liền với cụm từ sau. Bạn sẽ thấy kết quả khá khác biệt khi có dấu cách giữa `-` và 2 cụm từ).\n",
    "- kéo chuột xuống dưới và chọn `Show more results` cho đến khi không thể nữa.\n",
    "- Mở javascript 'Console' cho browser của bạn bằng phím tắt: `Ctrl` + `Shift` + `C` cho firefox; `Ctrl` + `Shift` + `J` cho chrome trên Linux/Window.\n",
    "- Sau đó chạy dòng code: \n",
    "\n",
    "```javascript\n",
    "urls = Array.from(document.querySelectorAll('.rg_di .rg_meta')).map(el=>JSON.parse(el.textContent).ou);\n",
    "window.open('data:text/csv;charset=utf-8,' + escape(urls.join('\\n')));\n",
    "```"
   ]
  },
  {
   "cell_type": "markdown",
   "metadata": {},
   "source": [
    "## Tạo folder và tải ảnh về theo link trên"
   ]
  },
  {
   "cell_type": "code",
   "execution_count": null,
   "metadata": {},
   "outputs": [],
   "source": [
    "# Tạo folder cho chim én: \n",
    "path = Config().data/'swallow'\n",
    "path.mkdir(parents=True, exist_ok=True)"
   ]
  },
  {
   "cell_type": "code",
   "execution_count": null,
   "metadata": {},
   "outputs": [],
   "source": [
    "# Tạo folder cho chim yến:\n",
    "path = Config().data/'swift'\n",
    "path.mkdir(parents=True, exist_ok=True)"
   ]
  }
 ],
 "metadata": {
  "kernelspec": {
   "display_name": "Python 3",
   "language": "python",
   "name": "python3"
  }
 },
 "nbformat": 4,
 "nbformat_minor": 4
}
