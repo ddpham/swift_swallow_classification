{
 "cells": [
  {
   "cell_type": "markdown",
   "id": "846d0713-b1e3-4a26-9de2-b204098c58a5",
   "metadata": {},
   "source": [
    "# **Nâng cao Keras**\n",
    "> Tương tự như fastai, chúng ta sẽ cùng thử với một vài phương pháp train dữ liệu như:\n",
    "> 1. Progressive Resize\n",
    "> 2. TTA\n",
    "> 3. MixUP\n",
    "> 4. LabelSmooth"
   ]
  },
  {
   "cell_type": "code",
   "execution_count": null,
   "id": "73da6cca-dfa9-4690-8363-fa076ed72ee2",
   "metadata": {},
   "outputs": [],
   "source": [
    "import tensorflow as tf\n",
    "from tensorflow import keras as keras\n",
    "from tensorflow.keras.preprocessing import image_dataset_from_directory\n",
    "from tensorflow.keras.preprocessing.image import ImageDataGenerator\n",
    "from tensorflow.keras.layers.experimental import preprocessing as PreprocessingLayers\n",
    "from tensorflow.keras import backend as bk\n",
    "import numpy as np\n",
    "import math\n",
    "\n",
    "from matplotlib import pyplot as plt\n",
    "%matplotlib inline"
   ]
  },
  {
   "cell_type": "code",
   "execution_count": null,
   "id": "d7475886-8608-4134-9fc4-61bb48b438be",
   "metadata": {},
   "outputs": [
    {
     "data": {
      "text/plain": [
       "[PhysicalDevice(name='/physical_device:GPU:0', device_type='GPU')]"
      ]
     },
     "execution_count": null,
     "metadata": {},
     "output_type": "execute_result"
    }
   ],
   "source": [
    "# Kiểm tra GPU:\n",
    "tf.config.experimental.list_physical_devices('GPU')"
   ]
  },
  {
   "cell_type": "code",
   "execution_count": null,
   "id": "4a2bf449-cb11-4004-a65b-7413d2c71ddd",
   "metadata": {},
   "outputs": [
    {
     "data": {
      "text/plain": [
       "('2.4.1', '2.4.0')"
      ]
     },
     "execution_count": null,
     "metadata": {},
     "output_type": "execute_result"
    }
   ],
   "source": [
    "# Kiểm tra tensorflow & keras version:\n",
    "tf.__version__, keras.__version__"
   ]
  },
  {
   "cell_type": "code",
   "execution_count": null,
   "id": "597ee3e3-a632-44b3-9abf-2a10d9a45dca",
   "metadata": {},
   "outputs": [
    {
     "name": "stdout",
     "output_type": "stream",
     "text": [
      "test  train\n"
     ]
    }
   ],
   "source": [
    "# Tạo path dữ liệu:\n",
    "path = '../data'\n",
    "!ls {path}"
   ]
  },
  {
   "cell_type": "markdown",
   "id": "d30439c4-99af-42e7-9455-838e3506ad83",
   "metadata": {},
   "source": [
    "# Giới hạn GPU"
   ]
  },
  {
   "cell_type": "code",
   "execution_count": null,
   "id": "a2b35b73-47f9-4b18-bdb0-6c265fd46809",
   "metadata": {},
   "outputs": [],
   "source": [
    "gpus = tf.config.experimental.list_physical_devices('GPU')\n",
    "tf.config.experimental.set_memory_growth(gpus[0], True)"
   ]
  },
  {
   "cell_type": "code",
   "execution_count": null,
   "id": "52d0cc89-48a9-4ac3-82aa-d6fdb9f4ebe4",
   "metadata": {},
   "outputs": [
    {
     "name": "stdout",
     "output_type": "stream",
     "text": [
      "Mon Sep  6 11:08:20 2021       \n",
      "+-----------------------------------------------------------------------------+\n",
      "| NVIDIA-SMI 470.57.01    Driver Version: 471.41       CUDA Version: 11.4     |\n",
      "|-------------------------------+----------------------+----------------------+\n",
      "| GPU  Name        Persistence-M| Bus-Id        Disp.A | Volatile Uncorr. ECC |\n",
      "| Fan  Temp  Perf  Pwr:Usage/Cap|         Memory-Usage | GPU-Util  Compute M. |\n",
      "|                               |                      |               MIG M. |\n",
      "|===============================+======================+======================|\n",
      "|   0  NVIDIA GeForce ...  Off  | 00000000:01:00.0  On |                  N/A |\n",
      "| 38%   43C    P8    16W / 180W |    921MiB /  8192MiB |    ERR!      Default |\n",
      "|                               |                      |                  N/A |\n",
      "+-------------------------------+----------------------+----------------------+\n",
      "                                                                               \n",
      "+-----------------------------------------------------------------------------+\n",
      "| Processes:                                                                  |\n",
      "|  GPU   GI   CI        PID   Type   Process name                  GPU Memory |\n",
      "|        ID   ID                                                   Usage      |\n",
      "|=============================================================================|\n",
      "|  No running processes found                                                 |\n",
      "+-----------------------------------------------------------------------------+\n"
     ]
    }
   ],
   "source": [
    "!nvidia-smi"
   ]
  },
  {
   "cell_type": "markdown",
   "id": "a304230e-b688-4ca7-947b-1ed73558e25b",
   "metadata": {},
   "source": [
    "# Tạo dữ liệu"
   ]
  },
  {
   "cell_type": "code",
   "execution_count": null,
   "id": "b88f3dc2-435f-459b-8421-3739480806ec",
   "metadata": {},
   "outputs": [],
   "source": [
    "# Tạo dữ liệu\n",
    "def create_raw_ds():\n",
    "    bs = 32\n",
    "    seed = 42\n",
    "    train_ds = image_dataset_from_directory(\n",
    "        f'{path}/train/'\n",
    "        , labels='inferred'\n",
    "        , label_mode='binary'\n",
    "        , batch_size=bs\n",
    "        , image_size=(460, 460)\n",
    "        , seed=seed\n",
    "        , validation_split=.2\n",
    "        , subset='training'\n",
    "    )\n",
    "\n",
    "    valid_ds = image_dataset_from_directory(\n",
    "        f'{path}/train/'\n",
    "        , labels='inferred'\n",
    "        , label_mode='binary'\n",
    "        , batch_size=bs\n",
    "        , image_size=(460, 460)\n",
    "        , seed=seed\n",
    "        , validation_split=.2\n",
    "        , subset='validation'\n",
    "    )\n",
    "    return train_ds, valid_ds"
   ]
  },
  {
   "cell_type": "code",
   "execution_count": null,
   "id": "1595060e-16e0-4052-89ca-ea08e6d74699",
   "metadata": {},
   "outputs": [],
   "source": [
    "# Tạo preprocessing layer:\n",
    "def create_preprocessed_ds(dataset, size):\n",
    "    preprocessing_layer = keras.Sequential([\n",
    "        PreprocessingLayers.RandomCrop(size, size, seed=42),\n",
    "        PreprocessingLayers.RandomContrast([.5, 1.5]),\n",
    "        PreprocessingLayers.RandomFlip(),\n",
    "        keras.layers.Lambda(lambda x: keras.applications.resnet.preprocess_input(x))\n",
    "    ])\n",
    "\n",
    "    def preprocess_images(image, label):\n",
    "        image = preprocessing_layer(image)\n",
    "        return image, label\n",
    "    \n",
    "    dataset = dataset.map(preprocess_images)\n",
    "    dataset = dataset.cache().prefetch(tf.data.AUTOTUNE)\n",
    "    return dataset"
   ]
  },
  {
   "cell_type": "code",
   "execution_count": null,
   "id": "deb220ea-8b6f-489f-a976-d1012216d423",
   "metadata": {},
   "outputs": [],
   "source": [
    "def f1(y_true, y_pred):\n",
    "    # Tính True Positive:\n",
    "    TP = bk.sum(bk.round(bk.clip(y_true * y_pred, 0, 1)))\n",
    "    \n",
    "    # Tính Actual Positve: TP + FN\n",
    "    TP_FN = bk.sum(bk.round(bk.clip(y_true, 0, 1)))\n",
    "    \n",
    "    # Tính Predicted Positve: TP + FP\n",
    "    TP_FP = bk.sum(bk.round(bk.clip(y_pred, 0, 1)))\n",
    "    \n",
    "    return  (2 * TP)/(TP_FN + TP_FP + bk.epsilon())"
   ]
  },
  {
   "cell_type": "code",
   "execution_count": null,
   "id": "168438f1-0cbf-4bb2-ba05-bf1589ae8f67",
   "metadata": {},
   "outputs": [],
   "source": [
    "# Tạo hàm tạo model:\n",
    "def create_model(size: int, num_classes: int=1):\n",
    "    activation = 'sigmoid'\n",
    "    if num_classes > 2: activation='softmax'\n",
    "    resnet_model = keras.applications.resnet.ResNet50(include_top=False, weights='imagenet', input_shape=(size, size, 3))\n",
    "    for layer in resnet_model.layers:\n",
    "        layer.trainable=False\n",
    "    \n",
    "    flatten = keras.layers.Flatten()(resnet_model.output)\n",
    "    # Bổ sung dropout layer:\n",
    "    dropout = keras.layers.Dropout(.5)(flatten)\n",
    "    prediction = keras.layers.Dense(num_classes, activation=activation)(dropout)\n",
    "    return keras.models.Model(inputs=resnet_model.input, outputs=prediction)"
   ]
  },
  {
   "cell_type": "markdown",
   "id": "02fc4666-a3af-4500-b9c0-6146763d8244",
   "metadata": {},
   "source": [
    "# Progressive Resize\n",
    "> Chúng ta sẽ thử với 3 size khác nhau: 128, 224 và 256. Với mỗi inputshape này, chúng ta sẽ phải tạo mới model, tuy nhiên, sẽ update weights của layer cuối cùng từ model cũ."
   ]
  },
  {
   "cell_type": "markdown",
   "id": "0b58aa65-f01a-4d4e-806a-f5d7af69e099",
   "metadata": {},
   "source": [
    "## SIZE 128"
   ]
  },
  {
   "cell_type": "code",
   "execution_count": null,
   "id": "55f38843-95d2-4a5a-a6e7-a97596b17f0f",
   "metadata": {},
   "outputs": [],
   "source": [
    "SIZE = 128"
   ]
  },
  {
   "cell_type": "code",
   "execution_count": null,
   "id": "78a9a61a-d85c-4ca0-a40d-a078eb9380e2",
   "metadata": {},
   "outputs": [
    {
     "name": "stdout",
     "output_type": "stream",
     "text": [
      "Found 713 files belonging to 2 classes.\n",
      "Using 571 files for training.\n",
      "Found 713 files belonging to 2 classes.\n",
      "Using 142 files for validation.\n"
     ]
    }
   ],
   "source": [
    "train_ds, valid_ds = create_raw_ds()\n",
    "train_ds = create_preprocessed_ds(train_ds, SIZE)\n",
    "valid_ds = create_preprocessed_ds(valid_ds, SIZE)"
   ]
  },
  {
   "cell_type": "markdown",
   "id": "65e86375-2f02-46c2-8211-73e92dbea60c",
   "metadata": {},
   "source": [
    "### Tìm lr"
   ]
  },
  {
   "cell_type": "code",
   "execution_count": null,
   "id": "4eee7ba7-a785-440c-8fc4-fc4923abf793",
   "metadata": {},
   "outputs": [],
   "source": [
    "def record_lr(model, epoch, train_ds, valid_ds):\n",
    "    lr_scheduler = keras.callbacks.LearningRateScheduler(lambda epoch: 1e-8 * (10 ** (epoch/5)))\n",
    "    optimizer = keras.optimizers.Adam(learning_rate=1e-8)\n",
    "    model.compile(optimizer=optimizer, loss='binary_crossentropy', metrics=['accuracy', f1])\n",
    "    model.fit(train_ds, epochs=epoch, validation_data=valid_ds, callbacks=[lr_scheduler])"
   ]
  },
  {
   "cell_type": "code",
   "execution_count": null,
   "id": "a226988c-b6b0-4217-9cb5-a2284567b77f",
   "metadata": {},
   "outputs": [
    {
     "name": "stdout",
     "output_type": "stream",
     "text": [
      "Epoch 1/40\n",
      "18/18 [==============================] - 4s 114ms/step - loss: 1.7318 - accuracy: 0.5766 - f1: 0.6337 - val_loss: 1.5156 - val_accuracy: 0.5141 - val_f1: 0.6108\n",
      "Epoch 2/40\n",
      "18/18 [==============================] - 1s 62ms/step - loss: 2.0812 - accuracy: 0.4904 - f1: 0.5617 - val_loss: 1.5155 - val_accuracy: 0.5141 - val_f1: 0.6108\n",
      "Epoch 3/40\n",
      "18/18 [==============================] - 1s 77ms/step - loss: 1.9433 - accuracy: 0.5017 - f1: 0.5699 - val_loss: 1.5154 - val_accuracy: 0.5141 - val_f1: 0.6108\n",
      "Epoch 4/40\n",
      "18/18 [==============================] - 1s 66ms/step - loss: 1.9723 - accuracy: 0.5040 - f1: 0.5654 - val_loss: 1.5152 - val_accuracy: 0.5141 - val_f1: 0.6108\n",
      "Epoch 5/40\n",
      "18/18 [==============================] - 1s 67ms/step - loss: 1.8087 - accuracy: 0.5036 - f1: 0.5679 - val_loss: 1.5148 - val_accuracy: 0.5141 - val_f1: 0.6108\n",
      "Epoch 6/40\n",
      "18/18 [==============================] - 1s 68ms/step - loss: 1.8288 - accuracy: 0.5311 - f1: 0.5855 - val_loss: 1.5142 - val_accuracy: 0.5141 - val_f1: 0.6108\n",
      "Epoch 7/40\n",
      "18/18 [==============================] - 1s 63ms/step - loss: 1.9650 - accuracy: 0.5313 - f1: 0.5757 - val_loss: 1.5133 - val_accuracy: 0.5141 - val_f1: 0.6108\n",
      "Epoch 8/40\n",
      "18/18 [==============================] - 1s 65ms/step - loss: 2.0385 - accuracy: 0.4829 - f1: 0.5322 - val_loss: 1.5121 - val_accuracy: 0.5211 - val_f1: 0.6181\n",
      "Epoch 9/40\n",
      "18/18 [==============================] - 1s 65ms/step - loss: 1.9489 - accuracy: 0.5474 - f1: 0.5912 - val_loss: 1.5101 - val_accuracy: 0.5211 - val_f1: 0.6181\n",
      "Epoch 10/40\n",
      "18/18 [==============================] - 1s 66ms/step - loss: 1.9687 - accuracy: 0.5667 - f1: 0.6279 - val_loss: 1.5065 - val_accuracy: 0.5211 - val_f1: 0.6181\n",
      "Epoch 11/40\n",
      "18/18 [==============================] - 1s 65ms/step - loss: 1.8531 - accuracy: 0.5523 - f1: 0.6062 - val_loss: 1.5004 - val_accuracy: 0.5211 - val_f1: 0.6181\n",
      "Epoch 12/40\n",
      "18/18 [==============================] - 1s 70ms/step - loss: 1.6294 - accuracy: 0.5592 - f1: 0.6037 - val_loss: 1.4921 - val_accuracy: 0.5211 - val_f1: 0.6181\n",
      "Epoch 13/40\n",
      "18/18 [==============================] - 1s 67ms/step - loss: 1.8646 - accuracy: 0.5357 - f1: 0.5909 - val_loss: 1.4801 - val_accuracy: 0.5141 - val_f1: 0.6114\n",
      "Epoch 14/40\n",
      "18/18 [==============================] - 1s 68ms/step - loss: 2.0033 - accuracy: 0.5126 - f1: 0.5755 - val_loss: 1.4585 - val_accuracy: 0.5211 - val_f1: 0.6197\n",
      "Epoch 15/40\n",
      "18/18 [==============================] - 1s 62ms/step - loss: 1.7729 - accuracy: 0.5291 - f1: 0.5987 - val_loss: 1.4212 - val_accuracy: 0.5282 - val_f1: 0.6195\n",
      "Epoch 16/40\n",
      "18/18 [==============================] - 1s 66ms/step - loss: 1.9358 - accuracy: 0.5089 - f1: 0.5518 - val_loss: 1.3825 - val_accuracy: 0.5423 - val_f1: 0.6292\n",
      "Epoch 17/40\n",
      "18/18 [==============================] - 1s 68ms/step - loss: 1.7298 - accuracy: 0.5868 - f1: 0.6326 - val_loss: 1.3308 - val_accuracy: 0.5563 - val_f1: 0.6452\n",
      "Epoch 18/40\n",
      "18/18 [==============================] - 1s 65ms/step - loss: 1.5680 - accuracy: 0.5340 - f1: 0.5859 - val_loss: 1.2829 - val_accuracy: 0.5634 - val_f1: 0.6556\n",
      "Epoch 19/40\n",
      "18/18 [==============================] - 1s 62ms/step - loss: 1.6534 - accuracy: 0.5787 - f1: 0.6361 - val_loss: 1.2027 - val_accuracy: 0.5704 - val_f1: 0.6359\n",
      "Epoch 20/40\n",
      "18/18 [==============================] - 1s 66ms/step - loss: 1.3143 - accuracy: 0.6129 - f1: 0.6465 - val_loss: 1.1848 - val_accuracy: 0.5915 - val_f1: 0.6739\n",
      "Epoch 21/40\n",
      "18/18 [==============================] - 1s 68ms/step - loss: 1.2070 - accuracy: 0.6680 - f1: 0.7021 - val_loss: 1.1312 - val_accuracy: 0.6408 - val_f1: 0.7004\n",
      "Epoch 22/40\n",
      "18/18 [==============================] - 1s 71ms/step - loss: 0.9683 - accuracy: 0.6966 - f1: 0.7196 - val_loss: 1.1081 - val_accuracy: 0.6620 - val_f1: 0.7235\n",
      "Epoch 23/40\n",
      "18/18 [==============================] - 1s 64ms/step - loss: 0.6848 - accuracy: 0.7906 - f1: 0.8099 - val_loss: 1.0208 - val_accuracy: 0.7042 - val_f1: 0.7526\n",
      "Epoch 24/40\n",
      "18/18 [==============================] - 1s 68ms/step - loss: 0.5618 - accuracy: 0.8120 - f1: 0.8262 - val_loss: 0.9932 - val_accuracy: 0.7254 - val_f1: 0.7741\n",
      "Epoch 25/40\n",
      "18/18 [==============================] - 1s 67ms/step - loss: 0.3726 - accuracy: 0.8502 - f1: 0.8677 - val_loss: 1.0373 - val_accuracy: 0.7254 - val_f1: 0.7559\n",
      "Epoch 26/40\n",
      "18/18 [==============================] - 1s 69ms/step - loss: 0.2680 - accuracy: 0.8728 - f1: 0.8785 - val_loss: 1.1114 - val_accuracy: 0.7535 - val_f1: 0.7758\n",
      "Epoch 27/40\n",
      "18/18 [==============================] - 1s 70ms/step - loss: 0.2174 - accuracy: 0.9226 - f1: 0.9308 - val_loss: 1.1027 - val_accuracy: 0.7324 - val_f1: 0.8041\n",
      "Epoch 28/40\n",
      "18/18 [==============================] - 1s 77ms/step - loss: 0.2796 - accuracy: 0.9100 - f1: 0.9171 - val_loss: 1.6400 - val_accuracy: 0.7324 - val_f1: 0.7822\n",
      "Epoch 29/40\n",
      "18/18 [==============================] - 1s 79ms/step - loss: 0.3594 - accuracy: 0.9124 - f1: 0.9180 - val_loss: 2.3853 - val_accuracy: 0.6901 - val_f1: 0.6982\n",
      "Epoch 30/40\n",
      "18/18 [==============================] - 1s 71ms/step - loss: 0.6955 - accuracy: 0.8617 - f1: 0.8660 - val_loss: 2.2384 - val_accuracy: 0.7394 - val_f1: 0.7423\n",
      "Epoch 31/40\n",
      "18/18 [==============================] - 1s 69ms/step - loss: 2.5441 - accuracy: 0.7988 - f1: 0.7998 - val_loss: 5.8642 - val_accuracy: 0.7042 - val_f1: 0.6704\n",
      "Epoch 32/40\n",
      "18/18 [==============================] - 1s 69ms/step - loss: 6.1618 - accuracy: 0.8322 - f1: 0.8405 - val_loss: 22.3931 - val_accuracy: 0.6690 - val_f1: 0.7727\n",
      "Epoch 33/40\n",
      "18/18 [==============================] - 1s 70ms/step - loss: 17.7665 - accuracy: 0.7440 - f1: 0.7220 - val_loss: 21.3467 - val_accuracy: 0.7465 - val_f1: 0.7937\n",
      "Epoch 34/40\n",
      "18/18 [==============================] - 1s 69ms/step - loss: 13.0623 - accuracy: 0.8507 - f1: 0.8704 - val_loss: 33.5655 - val_accuracy: 0.6901 - val_f1: 0.7181\n",
      "Epoch 35/40\n",
      "18/18 [==============================] - 1s 64ms/step - loss: 16.2712 - accuracy: 0.8498 - f1: 0.8526 - val_loss: 44.2566 - val_accuracy: 0.7042 - val_f1: 0.7016\n",
      "Epoch 36/40\n",
      "18/18 [==============================] - 1s 64ms/step - loss: 34.7732 - accuracy: 0.8029 - f1: 0.8029 - val_loss: 165.9597 - val_accuracy: 0.6479 - val_f1: 0.7508\n",
      "Epoch 37/40\n",
      "18/18 [==============================] - 1s 65ms/step - loss: 47.9220 - accuracy: 0.8231 - f1: 0.8127 - val_loss: 194.2991 - val_accuracy: 0.6831 - val_f1: 0.7737\n",
      "Epoch 38/40\n",
      "18/18 [==============================] - 1s 68ms/step - loss: 128.1753 - accuracy: 0.7873 - f1: 0.8112 - val_loss: 340.4141 - val_accuracy: 0.6972 - val_f1: 0.7079\n",
      "Epoch 39/40\n",
      "18/18 [==============================] - 1s 68ms/step - loss: 211.8796 - accuracy: 0.8052 - f1: 0.8269 - val_loss: 378.2464 - val_accuracy: 0.7887 - val_f1: 0.8330\n",
      "Epoch 40/40\n",
      "18/18 [==============================] - 1s 66ms/step - loss: 223.9271 - accuracy: 0.8499 - f1: 0.8485 - val_loss: 684.3167 - val_accuracy: 0.6972 - val_f1: 0.7731\n"
     ]
    }
   ],
   "source": [
    "bk.clear_session()\n",
    "model = create_model(SIZE, 1)\n",
    "record_lr(model, 40, train_ds, valid_ds)"
   ]
  },
  {
   "cell_type": "code",
   "execution_count": null,
   "id": "f81cccd4-5712-49b6-be0f-0b8f9a9237a6",
   "metadata": {},
   "outputs": [],
   "source": [
    "def plot_lr(history):\n",
    "    plt.figure(figsize=(8,4))\n",
    "    plt.semilogx(history[\"lr\"], history[\"loss\"])\n",
    "    plt.axis([1e-8, 1e-1, 0, 2])\n",
    "    plt.show()"
   ]
  },
  {
   "cell_type": "code",
   "execution_count": null,
   "id": "ff4bb24a-4c85-4242-8446-e0bb50f4f1c6",
   "metadata": {},
   "outputs": [
    {
     "data": {
      "image/png": "[encoded data removed]",
      "text/plain": [
       "<Figure size 576x288 with 1 Axes>"
      ]
     },
     "metadata": {
      "needs_background": "light"
     },
     "output_type": "display_data"
    }
   ],
   "source": [
    "plot_lr(model.history.history)"
   ]
  },
  {
   "cell_type": "code",
   "execution_count": null,
   "id": "a53547aa-15d3-4ee8-a989-24f14258c4ad",
   "metadata": {},
   "outputs": [],
   "source": [
    "def find_lr(history):\n",
    "    lr_list = history['lr']\n",
    "    loss_list = history['loss']\n",
    "    empty_dict = {}\n",
    "    for i in range(len(lr_list)):\n",
    "        if (loss_list[i] <= 2) & (lr_list[i] <= 1e-1) & (i >= 1):\n",
    "            empty_dict.update({lr_list[i]: loss_list[i-1] - loss_list[i]})\n",
    "    max_gap = max(empty_dict.values())\n",
    "    for key in empty_dict.keys():\n",
    "        if empty_dict[key] == max_gap: print(\"max_lr =\", key)\n",
    "    return empty_dict"
   ]
  },
  {
   "cell_type": "code",
   "execution_count": null,
   "id": "a02818aa-88f6-4b96-848f-26e264a1b187",
   "metadata": {},
   "outputs": [
    {
     "name": "stdout",
     "output_type": "stream",
     "text": [
      "max_lr = 6.309574e-05\n"
     ]
    },
    {
     "data": {
      "text/plain": [
       "{1.5848931e-08: -0.15541160106658936,\n",
       " 2.5118863e-08: 0.008539319038391113,\n",
       " 3.981072e-08: -0.0044116973876953125,\n",
       " 6.309573e-08: 0.17613482475280762,\n",
       " 1e-07: -0.25949597358703613,\n",
       " 1.5848931e-07: 0.0470273494720459,\n",
       " 2.5118865e-07: -0.07088792324066162,\n",
       " 3.9810718e-07: 0.04282355308532715,\n",
       " 6.3095735e-07: 0.10992586612701416,\n",
       " 1e-06: -0.01399385929107666,\n",
       " 1.5848932e-06: 0.13748204708099365,\n",
       " 2.5118864e-06: -0.08585989475250244,\n",
       " 3.9810716e-06: -0.1490931510925293,\n",
       " 6.3095736e-06: 0.22330987453460693,\n",
       " 1e-05: -0.11289477348327637,\n",
       " 1.5848931e-05: 0.1436612606048584,\n",
       " 2.5118865e-05: 0.11215436458587646,\n",
       " 3.981072e-05: 0.06249392032623291,\n",
       " 6.309574e-05: 0.2522691488265991,\n",
       " 1e-04: 0.1310100555419922,\n",
       " 0.00015848932: 0.2520580291748047,\n",
       " 0.00025118864: 0.18199437856674194,\n",
       " 0.00039810716: 0.13176584243774414,\n",
       " 0.00063095737: 0.13518449664115906,\n",
       " 0.001: 0.09912355244159698,\n",
       " 0.0015848932: 0.006240144371986389,\n",
       " 0.0025118864: -0.028782755136489868,\n",
       " 0.0039810715: -0.15136554837226868,\n",
       " 0.0063095735: -0.21960699558258057}"
      ]
     },
     "execution_count": null,
     "metadata": {},
     "output_type": "execute_result"
    }
   ],
   "source": [
    "lr_list = find_lr(model.history.history)\n",
    "lr_list"
   ]
  },
  {
   "cell_type": "markdown",
   "id": "47e6e46f-78ee-4347-9455-c8617ae132dc",
   "metadata": {},
   "source": [
    "### Bắt đầu lại"
   ]
  },
  {
   "cell_type": "code",
   "execution_count": null,
   "id": "abbb5293-a8a9-4c91-9c20-c4c72c6ad3b0",
   "metadata": {},
   "outputs": [],
   "source": [
    "def lr_cycle(epoch, max_lr):\n",
    "    stepsize = 4\n",
    "    epsilon = math.log(10, stepsize)\n",
    "    remainder = epoch % (stepsize * 2)\n",
    "    if (stepsize + 1) <= remainder: new_lr = max_lr * (epsilon ** (remainder - stepsize - 1))\n",
    "    else: new_lr = max_lr / (epsilon ** (remainder - stepsize - 1))\n",
    "    return new_lr"
   ]
  },
  {
   "cell_type": "code",
   "execution_count": null,
   "id": "dc39dbc8-9c29-4df5-b362-ae9f3bbeab81",
   "metadata": {},
   "outputs": [
    {
     "name": "stdout",
     "output_type": "stream",
     "text": [
      "Epoch 1/24\n",
      "18/18 [==============================] - 5s 114ms/step - loss: 1.9046 - accuracy: 0.5710 - f1: 0.5938 - val_loss: 1.0626 - val_accuracy: 0.7042 - val_f1: 0.7251\n",
      "Epoch 2/24\n",
      "18/18 [==============================] - 1s 66ms/step - loss: 0.6395 - accuracy: 0.8297 - f1: 0.8381 - val_loss: 0.8487 - val_accuracy: 0.7465 - val_f1: 0.7490\n",
      "Epoch 3/24\n",
      "18/18 [==============================] - 1s 63ms/step - loss: 0.2963 - accuracy: 0.9081 - f1: 0.9168 - val_loss: 0.8813 - val_accuracy: 0.7676 - val_f1: 0.7818\n",
      "Epoch 4/24\n",
      "18/18 [==============================] - 1s 61ms/step - loss: 0.2541 - accuracy: 0.9167 - f1: 0.9175 - val_loss: 0.8802 - val_accuracy: 0.7746 - val_f1: 0.7856\n",
      "Epoch 5/24\n",
      "18/18 [==============================] - 1s 62ms/step - loss: 0.2128 - accuracy: 0.9087 - f1: 0.9146 - val_loss: 0.9865 - val_accuracy: 0.7817 - val_f1: 0.8080\n",
      "Epoch 6/24\n",
      "18/18 [==============================] - 1s 63ms/step - loss: 0.1691 - accuracy: 0.9272 - f1: 0.9355 - val_loss: 0.8964 - val_accuracy: 0.7746 - val_f1: 0.7878\n",
      "Epoch 7/24\n",
      "18/18 [==============================] - 1s 64ms/step - loss: 0.1610 - accuracy: 0.9372 - f1: 0.9391 - val_loss: 0.8645 - val_accuracy: 0.7746 - val_f1: 0.7829\n",
      "Epoch 8/24\n",
      "18/18 [==============================] - 1s 65ms/step - loss: 0.1063 - accuracy: 0.9470 - f1: 0.9512 - val_loss: 0.8493 - val_accuracy: 0.7676 - val_f1: 0.7790\n",
      "Epoch 9/24\n",
      "18/18 [==============================] - 1s 63ms/step - loss: 0.1750 - accuracy: 0.9457 - f1: 0.9475 - val_loss: 0.8264 - val_accuracy: 0.7324 - val_f1: 0.7492\n",
      "Epoch 10/24\n",
      "18/18 [==============================] - 1s 64ms/step - loss: 0.0876 - accuracy: 0.9748 - f1: 0.9783 - val_loss: 0.8683 - val_accuracy: 0.7394 - val_f1: 0.7698\n",
      "Epoch 11/24\n",
      "18/18 [==============================] - 1s 63ms/step - loss: 0.1708 - accuracy: 0.9285 - f1: 0.9361 - val_loss: 1.1571 - val_accuracy: 0.7606 - val_f1: 0.7930\n",
      "Epoch 12/24\n",
      "18/18 [==============================] - 1s 64ms/step - loss: 0.0893 - accuracy: 0.9608 - f1: 0.9649 - val_loss: 1.0753 - val_accuracy: 0.7535 - val_f1: 0.7873\n",
      "Epoch 13/24\n",
      "18/18 [==============================] - 1s 63ms/step - loss: 0.1160 - accuracy: 0.9500 - f1: 0.9517 - val_loss: 1.0725 - val_accuracy: 0.7676 - val_f1: 0.7956\n",
      "Epoch 14/24\n",
      "18/18 [==============================] - 1s 67ms/step - loss: 0.0820 - accuracy: 0.9702 - f1: 0.9733 - val_loss: 1.0181 - val_accuracy: 0.7676 - val_f1: 0.7810\n",
      "Epoch 15/24\n",
      "18/18 [==============================] - 1s 65ms/step - loss: 0.0603 - accuracy: 0.9791 - f1: 0.9805 - val_loss: 1.0025 - val_accuracy: 0.7606 - val_f1: 0.7764\n",
      "Epoch 16/24\n",
      "18/18 [==============================] - 1s 64ms/step - loss: 0.1170 - accuracy: 0.9651 - f1: 0.9667 - val_loss: 1.0607 - val_accuracy: 0.7606 - val_f1: 0.7764\n",
      "Epoch 17/24\n",
      "18/18 [==============================] - 1s 63ms/step - loss: 0.0700 - accuracy: 0.9817 - f1: 0.9838 - val_loss: 1.0588 - val_accuracy: 0.7394 - val_f1: 0.7832\n",
      "Epoch 18/24\n",
      "18/18 [==============================] - 1s 67ms/step - loss: 0.0587 - accuracy: 0.9799 - f1: 0.9812 - val_loss: 1.0509 - val_accuracy: 0.7817 - val_f1: 0.7945\n",
      "Epoch 19/24\n",
      "18/18 [==============================] - 1s 68ms/step - loss: 0.0639 - accuracy: 0.9785 - f1: 0.9788 - val_loss: 1.0412 - val_accuracy: 0.7746 - val_f1: 0.7875\n",
      "Epoch 20/24\n",
      "18/18 [==============================] - 1s 71ms/step - loss: 0.0837 - accuracy: 0.9712 - f1: 0.9727 - val_loss: 1.0403 - val_accuracy: 0.7606 - val_f1: 0.7781\n",
      "Epoch 21/24\n",
      "18/18 [==============================] - 1s 62ms/step - loss: 0.0593 - accuracy: 0.9764 - f1: 0.9770 - val_loss: 1.0907 - val_accuracy: 0.7746 - val_f1: 0.7909\n",
      "Epoch 22/24\n",
      "18/18 [==============================] - 1s 61ms/step - loss: 0.1012 - accuracy: 0.9594 - f1: 0.9627 - val_loss: 1.0019 - val_accuracy: 0.7746 - val_f1: 0.7888\n",
      "Epoch 23/24\n",
      "18/18 [==============================] - 1s 65ms/step - loss: 0.0713 - accuracy: 0.9735 - f1: 0.9759 - val_loss: 1.0565 - val_accuracy: 0.7676 - val_f1: 0.7852\n",
      "Epoch 24/24\n",
      "18/18 [==============================] - 1s 67ms/step - loss: 0.0527 - accuracy: 0.9779 - f1: 0.9805 - val_loss: 1.0109 - val_accuracy: 0.7676 - val_f1: 0.7854\n"
     ]
    },
    {
     "data": {
      "text/plain": [
       "<tensorflow.python.keras.callbacks.History at 0x7fee255b9be0>"
      ]
     },
     "execution_count": null,
     "metadata": {},
     "output_type": "execute_result"
    }
   ],
   "source": [
    "max_lr = 6.309574e-05\n",
    "model = create_model(SIZE, 1)\n",
    "lr_scheduler = keras.callbacks.LearningRateScheduler(lambda epoch: lr_cycle(epoch, max_lr))\n",
    "optimizer = keras.optimizers.Adam(learning_rate=max_lr/10)\n",
    "model.compile(optimizer=optimizer, loss='binary_crossentropy', metrics=['accuracy', f1])\n",
    "epochs = 24\n",
    "model.fit(train_ds, epochs=epochs, validation_data=valid_ds, callbacks=[lr_scheduler])"
   ]
  },
  {
   "cell_type": "code",
   "execution_count": null,
   "id": "92f21446-4f56-49c6-8364-7688e211dd37",
   "metadata": {},
   "outputs": [
    {
     "name": "stdout",
     "output_type": "stream",
     "text": [
      "INFO:tensorflow:Assets written to: /mnt/d/practice/projects/swift_swallow/models//keras_PR_128/assets\n"
     ]
    }
   ],
   "source": [
    "# Save model:\n",
    "save_path = \"/mnt/d/practice/projects/swift_swallow/models/\"\n",
    "model.save(f'{save_path}/keras_PR_128')"
   ]
  },
  {
   "cell_type": "code",
   "execution_count": null,
   "id": "166c849e-1de1-4252-a371-75ea76a8f788",
   "metadata": {},
   "outputs": [
    {
     "data": {
      "text/plain": [
       "[array([[ 0.00720141],\n",
       "        [-0.00967764],\n",
       "        [-0.00890184],\n",
       "        ...,\n",
       "        [ 0.00686435],\n",
       "        [ 0.00777911],\n",
       "        [ 0.01045314]], dtype=float32),\n",
       " array([0.00352285], dtype=float32)]"
      ]
     },
     "execution_count": null,
     "metadata": {},
     "output_type": "execute_result"
    }
   ],
   "source": [
    "# Lấy toàn bộ weights của layer cuối cùng (prediction)\n",
    "last_layer_weights_128 = model.layers[len(model.layers)-1].get_weights()\n",
    "last_layer_weights_128"
   ]
  },
  {
   "cell_type": "markdown",
   "id": "9a72d5dc-955a-41d3-8c91-a662f5497a67",
   "metadata": {},
   "source": [
    "## SIZE 224"
   ]
  },
  {
   "cell_type": "code",
   "execution_count": null,
   "id": "99a50208-47c0-460a-84fb-f101e1c14890",
   "metadata": {},
   "outputs": [],
   "source": [
    "SIZE = 224"
   ]
  },
  {
   "cell_type": "markdown",
   "id": "fbf7d3f3-4771-48a8-8dd2-6ae32d08056a",
   "metadata": {},
   "source": [
    "### Tạo lại dữ liệu"
   ]
  },
  {
   "cell_type": "code",
   "execution_count": null,
   "id": "fb1e7ce0-a971-41fd-9617-a355fb4954ee",
   "metadata": {},
   "outputs": [
    {
     "name": "stdout",
     "output_type": "stream",
     "text": [
      "Found 713 files belonging to 2 classes.\n",
      "Using 571 files for training.\n",
      "Found 713 files belonging to 2 classes.\n",
      "Using 142 files for validation.\n"
     ]
    }
   ],
   "source": [
    "train_ds, valid_ds = create_raw_ds()\n",
    "train_ds = create_preprocessed_ds(train_ds, SIZE)\n",
    "valid_ds = create_preprocessed_ds(valid_ds, SIZE)"
   ]
  },
  {
   "cell_type": "markdown",
   "id": "ee57cc06-2fcb-4e96-a90d-16a515937534",
   "metadata": {},
   "source": [
    "### Cập nhật model\n",
    "> Chúng ta cần cập nhật layer cuối cùng của model mới, dựa vào weights của model cũ."
   ]
  },
  {
   "cell_type": "code",
   "execution_count": null,
   "id": "78c1cf75-e860-4bc7-80d3-7f42b11ada35",
   "metadata": {},
   "outputs": [],
   "source": [
    "def update_model(model, weights):\n",
    "    update_len = [len(weights[0]), len(weights[1])]\n",
    "    idx = len(model.layers) - 1\n",
    "    last_weights = model.layers[idx].get_weights()\n",
    "    \n",
    "    # Cập nhật weights:\n",
    "    for i in [0, 1]:\n",
    "        np.put(last_weights[i], np.arange(update_len[i]),  weights[i])\n",
    "    \n",
    "    # bổ sung weights vào model:\n",
    "    model.layers[idx].set_weights(last_weights)"
   ]
  },
  {
   "cell_type": "markdown",
   "id": "0c73727b-c1f4-45ed-b255-efcd63df7fc1",
   "metadata": {},
   "source": [
    "### Tìm lr"
   ]
  },
  {
   "cell_type": "code",
   "execution_count": null,
   "id": "9db97573-ba7b-4add-8153-1bfc053d0c25",
   "metadata": {},
   "outputs": [
    {
     "name": "stdout",
     "output_type": "stream",
     "text": [
      "Epoch 1/40\n",
      "18/18 [==============================] - 9s 307ms/step - loss: 1.2767 - accuracy: 0.6828 - f1: 0.7096 - val_loss: 0.8310 - val_accuracy: 0.7746 - val_f1: 0.8124\n",
      "Epoch 2/40\n",
      "18/18 [==============================] - 2s 136ms/step - loss: 1.3855 - accuracy: 0.6826 - f1: 0.7128 - val_loss: 0.8309 - val_accuracy: 0.7746 - val_f1: 0.8124\n",
      "Epoch 3/40\n",
      "18/18 [==============================] - 2s 125ms/step - loss: 1.1639 - accuracy: 0.6747 - f1: 0.6824 - val_loss: 0.8309 - val_accuracy: 0.7746 - val_f1: 0.8124\n",
      "Epoch 4/40\n",
      "18/18 [==============================] - 2s 123ms/step - loss: 1.2774 - accuracy: 0.7008 - f1: 0.7188 - val_loss: 0.8308 - val_accuracy: 0.7746 - val_f1: 0.8124\n",
      "Epoch 5/40\n",
      "18/18 [==============================] - 2s 123ms/step - loss: 1.3729 - accuracy: 0.6698 - f1: 0.6899 - val_loss: 0.8306 - val_accuracy: 0.7746 - val_f1: 0.8124\n",
      "Epoch 6/40\n",
      "18/18 [==============================] - 2s 123ms/step - loss: 1.4261 - accuracy: 0.6819 - f1: 0.7008 - val_loss: 0.8302 - val_accuracy: 0.7746 - val_f1: 0.8124\n",
      "Epoch 7/40\n",
      "18/18 [==============================] - 2s 137ms/step - loss: 1.3399 - accuracy: 0.6848 - f1: 0.6961 - val_loss: 0.8299 - val_accuracy: 0.7746 - val_f1: 0.8124\n",
      "Epoch 8/40\n",
      "18/18 [==============================] - 2s 129ms/step - loss: 1.3247 - accuracy: 0.6862 - f1: 0.7029 - val_loss: 0.8293 - val_accuracy: 0.7746 - val_f1: 0.8124\n",
      "Epoch 9/40\n",
      "18/18 [==============================] - 2s 121ms/step - loss: 1.3761 - accuracy: 0.7044 - f1: 0.7181 - val_loss: 0.8284 - val_accuracy: 0.7606 - val_f1: 0.8041\n",
      "Epoch 10/40\n",
      "18/18 [==============================] - 2s 124ms/step - loss: 1.4191 - accuracy: 0.6934 - f1: 0.7154 - val_loss: 0.8273 - val_accuracy: 0.7606 - val_f1: 0.8041\n",
      "Epoch 11/40\n",
      "18/18 [==============================] - 2s 129ms/step - loss: 1.2688 - accuracy: 0.7176 - f1: 0.7381 - val_loss: 0.8259 - val_accuracy: 0.7606 - val_f1: 0.8041\n",
      "Epoch 12/40\n",
      "18/18 [==============================] - 2s 123ms/step - loss: 1.2401 - accuracy: 0.6829 - f1: 0.7093 - val_loss: 0.8251 - val_accuracy: 0.7606 - val_f1: 0.8041\n",
      "Epoch 13/40\n",
      "18/18 [==============================] - 2s 124ms/step - loss: 1.2008 - accuracy: 0.7083 - f1: 0.7390 - val_loss: 0.8239 - val_accuracy: 0.7746 - val_f1: 0.8164\n",
      "Epoch 14/40\n",
      "18/18 [==============================] - 2s 136ms/step - loss: 1.3685 - accuracy: 0.6936 - f1: 0.7238 - val_loss: 0.8230 - val_accuracy: 0.7676 - val_f1: 0.8063\n",
      "Epoch 15/40\n",
      "18/18 [==============================] - 2s 123ms/step - loss: 1.4770 - accuracy: 0.6773 - f1: 0.7093 - val_loss: 0.8294 - val_accuracy: 0.7535 - val_f1: 0.7986\n",
      "Epoch 16/40\n",
      "18/18 [==============================] - 2s 123ms/step - loss: 1.1820 - accuracy: 0.6978 - f1: 0.7339 - val_loss: 0.8320 - val_accuracy: 0.7606 - val_f1: 0.8004\n",
      "Epoch 17/40\n",
      "18/18 [==============================] - 2s 123ms/step - loss: 1.0586 - accuracy: 0.7156 - f1: 0.7437 - val_loss: 0.8060 - val_accuracy: 0.7817 - val_f1: 0.8163\n",
      "Epoch 18/40\n",
      "18/18 [==============================] - 2s 123ms/step - loss: 1.1001 - accuracy: 0.7423 - f1: 0.7693 - val_loss: 0.8068 - val_accuracy: 0.7746 - val_f1: 0.8122\n",
      "Epoch 19/40\n",
      "18/18 [==============================] - 2s 123ms/step - loss: 0.7329 - accuracy: 0.7740 - f1: 0.7998 - val_loss: 0.7585 - val_accuracy: 0.7958 - val_f1: 0.8272\n",
      "Epoch 20/40\n",
      "18/18 [==============================] - 2s 121ms/step - loss: 0.5756 - accuracy: 0.8325 - f1: 0.8509 - val_loss: 0.8550 - val_accuracy: 0.7746 - val_f1: 0.8222\n",
      "Epoch 21/40\n",
      "18/18 [==============================] - 2s 122ms/step - loss: 0.4697 - accuracy: 0.8201 - f1: 0.8447 - val_loss: 0.7480 - val_accuracy: 0.8099 - val_f1: 0.8433\n",
      "Epoch 22/40\n",
      "18/18 [==============================] - 2s 122ms/step - loss: 0.2944 - accuracy: 0.8952 - f1: 0.9027 - val_loss: 0.7739 - val_accuracy: 0.8028 - val_f1: 0.8302\n",
      "Epoch 23/40\n",
      "18/18 [==============================] - 2s 121ms/step - loss: 0.2211 - accuracy: 0.9220 - f1: 0.9293 - val_loss: 0.5898 - val_accuracy: 0.8380 - val_f1: 0.8584\n",
      "Epoch 24/40\n",
      "18/18 [==============================] - 2s 126ms/step - loss: 0.1157 - accuracy: 0.9637 - f1: 0.9657 - val_loss: 0.6030 - val_accuracy: 0.8169 - val_f1: 0.8309\n",
      "Epoch 25/40\n",
      "18/18 [==============================] - 2s 128ms/step - loss: 0.0848 - accuracy: 0.9656 - f1: 0.9667 - val_loss: 0.6727 - val_accuracy: 0.8028 - val_f1: 0.8303\n",
      "Epoch 26/40\n",
      "18/18 [==============================] - 2s 122ms/step - loss: 0.0849 - accuracy: 0.9733 - f1: 0.9765 - val_loss: 0.6908 - val_accuracy: 0.8239 - val_f1: 0.8430\n",
      "Epoch 27/40\n",
      "18/18 [==============================] - 2s 120ms/step - loss: 0.1139 - accuracy: 0.9705 - f1: 0.9732 - val_loss: 1.4166 - val_accuracy: 0.7535 - val_f1: 0.7798\n",
      "Epoch 28/40\n",
      "18/18 [==============================] - 2s 122ms/step - loss: 0.3506 - accuracy: 0.9394 - f1: 0.9399 - val_loss: 2.3285 - val_accuracy: 0.7958 - val_f1: 0.8266\n",
      "Epoch 29/40\n",
      "18/18 [==============================] - 2s 121ms/step - loss: 1.1686 - accuracy: 0.8997 - f1: 0.9100 - val_loss: 5.4211 - val_accuracy: 0.7042 - val_f1: 0.6244\n",
      "Epoch 30/40\n",
      "18/18 [==============================] - 2s 122ms/step - loss: 2.6986 - accuracy: 0.8673 - f1: 0.8499 - val_loss: 8.0999 - val_accuracy: 0.7535 - val_f1: 0.7963\n",
      "Epoch 31/40\n",
      "18/18 [==============================] - 2s 125ms/step - loss: 5.1662 - accuracy: 0.8641 - f1: 0.8663 - val_loss: 51.3204 - val_accuracy: 0.5986 - val_f1: 0.7334\n",
      "Epoch 32/40\n",
      "18/18 [==============================] - 2s 128ms/step - loss: 22.6500 - accuracy: 0.7906 - f1: 0.8053 - val_loss: 35.9990 - val_accuracy: 0.7606 - val_f1: 0.7739\n",
      "Epoch 33/40\n",
      "18/18 [==============================] - 2s 122ms/step - loss: 11.0487 - accuracy: 0.9108 - f1: 0.9171 - val_loss: 59.3415 - val_accuracy: 0.7887 - val_f1: 0.8301\n",
      "Epoch 34/40\n",
      "18/18 [==============================] - 2s 128ms/step - loss: 5.8889 - accuracy: 0.9576 - f1: 0.9615 - val_loss: 52.6711 - val_accuracy: 0.7958 - val_f1: 0.8322\n",
      "Epoch 35/40\n",
      "18/18 [==============================] - 2s 128ms/step - loss: 4.0080 - accuracy: 0.9776 - f1: 0.9777 - val_loss: 62.5234 - val_accuracy: 0.7817 - val_f1: 0.8226\n",
      "Epoch 36/40\n",
      "18/18 [==============================] - 2s 121ms/step - loss: 6.1633 - accuracy: 0.9702 - f1: 0.9735 - val_loss: 78.8816 - val_accuracy: 0.7676 - val_f1: 0.8094\n",
      "Epoch 37/40\n",
      "18/18 [==============================] - 2s 122ms/step - loss: 24.9876 - accuracy: 0.9251 - f1: 0.9332 - val_loss: 213.9854 - val_accuracy: 0.7465 - val_f1: 0.7271\n",
      "Epoch 38/40\n",
      "18/18 [==============================] - 4s 248ms/step - loss: 86.4890 - accuracy: 0.8698 - f1: 0.8714 - val_loss: 616.4374 - val_accuracy: 0.6901 - val_f1: 0.7697\n",
      "Epoch 39/40\n",
      "18/18 [==============================] - 2s 124ms/step - loss: 193.8730 - accuracy: 0.8878 - f1: 0.8918 - val_loss: 999.2167 - val_accuracy: 0.7183 - val_f1: 0.7887\n",
      "Epoch 40/40\n",
      "18/18 [==============================] - 2s 128ms/step - loss: 366.6580 - accuracy: 0.8488 - f1: 0.8636 - val_loss: 955.6183 - val_accuracy: 0.7676 - val_f1: 0.7700\n"
     ]
    }
   ],
   "source": [
    "bk.clear_session()\n",
    "# Tạo model mới:\n",
    "model = create_model(SIZE, 1)\n",
    "\n",
    "# Cập nhật weights cho layer cuối:\n",
    "update_model(model, last_layer_weights_128)\n",
    "\n",
    "# Tìm lr:\n",
    "record_lr(model, 40, train_ds, valid_ds)"
   ]
  },
  {
   "cell_type": "code",
   "execution_count": null,
   "id": "bcef5c02-a9c1-48f4-9072-c360089f6af2",
   "metadata": {},
   "outputs": [
    {
     "data": {
      "image/png": "[encoded data removed]",
      "text/plain": [
       "<Figure size 576x288 with 1 Axes>"
      ]
     },
     "metadata": {
      "needs_background": "light"
     },
     "output_type": "display_data"
    }
   ],
   "source": [
    "plot_lr(model.history.history)"
   ]
  },
  {
   "cell_type": "code",
   "execution_count": null,
   "id": "56a18937-2eac-4061-a3ce-2f053da5c2aa",
   "metadata": {},
   "outputs": [
    {
     "name": "stdout",
     "output_type": "stream",
     "text": [
      "max_lr = 3.981072e-05\n"
     ]
    },
    {
     "data": {
      "text/plain": [
       "{1.5848931e-08: -0.010412454605102539,\n",
       " 2.5118863e-08: 0.040226101875305176,\n",
       " 3.981072e-08: 0.028507351875305176,\n",
       " 6.309573e-08: -0.14230382442474365,\n",
       " 1e-07: 0.03351271152496338,\n",
       " 1.5848931e-07: 0.06360673904418945,\n",
       " 2.5118865e-07: -0.015206694602966309,\n",
       " 3.9810718e-07: 0.01910233497619629,\n",
       " 6.3095735e-07: -0.08945679664611816,\n",
       " 1e-06: 0.20239830017089844,\n",
       " 1.5848932e-06: -0.19408035278320312,\n",
       " 2.5118864e-06: 0.11313951015472412,\n",
       " 3.9810716e-06: 0.021314144134521484,\n",
       " 6.3095736e-06: -0.16432785987854004,\n",
       " 1e-05: 0.2795701026916504,\n",
       " 1.5848931e-05: 0.0897667407989502,\n",
       " 2.5118865e-05: -0.01593160629272461,\n",
       " 3.981072e-05: 0.4067336320877075,\n",
       " 6.309574e-05: 0.07194381952285767,\n",
       " 1e-04: 0.11764213442802429,\n",
       " 0.00015848932: 0.1973070502281189,\n",
       " 0.00025118864: 0.06058673560619354,\n",
       " 0.00039810716: 0.13773063570261002,\n",
       " 0.00063095737: 0.007844984531402588,\n",
       " 0.001: -0.045226626098155975,\n",
       " 0.0015848932: -0.06555844843387604,\n",
       " 0.0025118864: -0.4651540368795395,\n",
       " 0.0039810715: -0.7072306275367737,\n",
       " 0.0063095735: -0.5953435897827148}"
      ]
     },
     "execution_count": null,
     "metadata": {},
     "output_type": "execute_result"
    }
   ],
   "source": [
    "lr_list = find_lr(model.history.history)\n",
    "lr_list"
   ]
  },
  {
   "cell_type": "markdown",
   "id": "5c562c96-965a-4512-a492-6f5459b7b97d",
   "metadata": {},
   "source": [
    "### Bắt đầu lại"
   ]
  },
  {
   "cell_type": "code",
   "execution_count": null,
   "id": "04e30c5b-e311-4b9a-bed9-53a90160b6b3",
   "metadata": {},
   "outputs": [
    {
     "name": "stdout",
     "output_type": "stream",
     "text": [
      "Epoch 1/24\n",
      "18/18 [==============================] - 6s 182ms/step - loss: 1.8057 - accuracy: 0.6893 - f1: 0.7085 - val_loss: 2.4653 - val_accuracy: 0.6972 - val_f1: 0.7766\n",
      "Epoch 2/24\n",
      "18/18 [==============================] - 2s 122ms/step - loss: 0.9171 - accuracy: 0.8468 - f1: 0.8650 - val_loss: 1.0984 - val_accuracy: 0.8310 - val_f1: 0.8530\n",
      "Epoch 3/24\n",
      "18/18 [==============================] - 2s 123ms/step - loss: 0.0868 - accuracy: 0.9724 - f1: 0.9736 - val_loss: 1.1691 - val_accuracy: 0.8380 - val_f1: 0.8575\n",
      "Epoch 4/24\n",
      "18/18 [==============================] - 2s 122ms/step - loss: 0.0422 - accuracy: 0.9895 - f1: 0.9898 - val_loss: 1.1467 - val_accuracy: 0.8310 - val_f1: 0.8530\n",
      "Epoch 5/24\n",
      "18/18 [==============================] - 2s 122ms/step - loss: 0.0167 - accuracy: 0.9937 - f1: 0.9941 - val_loss: 1.1302 - val_accuracy: 0.8310 - val_f1: 0.8530\n",
      "Epoch 6/24\n",
      "18/18 [==============================] - 2s 123ms/step - loss: 0.0215 - accuracy: 0.9873 - f1: 0.9863 - val_loss: 1.1024 - val_accuracy: 0.8310 - val_f1: 0.8530\n",
      "Epoch 7/24\n",
      "18/18 [==============================] - 2s 122ms/step - loss: 0.0186 - accuracy: 0.9916 - f1: 0.9918 - val_loss: 1.1935 - val_accuracy: 0.8310 - val_f1: 0.8547\n",
      "Epoch 8/24\n",
      "18/18 [==============================] - 2s 123ms/step - loss: 0.0310 - accuracy: 0.9830 - f1: 0.9839 - val_loss: 1.2069 - val_accuracy: 0.8310 - val_f1: 0.8547\n",
      "Epoch 9/24\n",
      "18/18 [==============================] - 2s 122ms/step - loss: 0.0405 - accuracy: 0.9886 - f1: 0.9899 - val_loss: 1.4470 - val_accuracy: 0.8028 - val_f1: 0.8384\n",
      "Epoch 10/24\n",
      "18/18 [==============================] - 2s 122ms/step - loss: 0.0150 - accuracy: 0.9922 - f1: 0.9913 - val_loss: 1.0021 - val_accuracy: 0.8310 - val_f1: 0.8633\n",
      "Epoch 11/24\n",
      "18/18 [==============================] - 2s 123ms/step - loss: 0.0232 - accuracy: 0.9934 - f1: 0.9930 - val_loss: 1.1863 - val_accuracy: 0.8239 - val_f1: 0.8484\n",
      "Epoch 12/24\n",
      "18/18 [==============================] - 2s 122ms/step - loss: 0.0316 - accuracy: 0.9888 - f1: 0.9882 - val_loss: 1.0742 - val_accuracy: 0.8239 - val_f1: 0.8484\n",
      "Epoch 13/24\n",
      "18/18 [==============================] - 2s 122ms/step - loss: 0.0016 - accuracy: 0.9997 - f1: 0.9998 - val_loss: 1.0839 - val_accuracy: 0.8239 - val_f1: 0.8484\n",
      "Epoch 14/24\n",
      "18/18 [==============================] - 2s 123ms/step - loss: 0.0045 - accuracy: 0.9977 - f1: 0.9980 - val_loss: 1.0687 - val_accuracy: 0.8310 - val_f1: 0.8575\n",
      "Epoch 15/24\n",
      "18/18 [==============================] - 2s 123ms/step - loss: 0.0062 - accuracy: 0.9985 - f1: 0.9987 - val_loss: 1.0323 - val_accuracy: 0.8380 - val_f1: 0.8620\n",
      "Epoch 16/24\n",
      "18/18 [==============================] - 2s 122ms/step - loss: 0.0042 - accuracy: 0.9984 - f1: 0.9986 - val_loss: 1.1328 - val_accuracy: 0.8310 - val_f1: 0.8575\n",
      "Epoch 17/24\n",
      "18/18 [==============================] - 2s 122ms/step - loss: 0.0038 - accuracy: 1.0000 - f1: 1.0000 - val_loss: 1.2108 - val_accuracy: 0.8310 - val_f1: 0.8547\n",
      "Epoch 18/24\n",
      "18/18 [==============================] - 2s 123ms/step - loss: 0.0074 - accuracy: 0.9952 - f1: 0.9964 - val_loss: 1.1649 - val_accuracy: 0.8380 - val_f1: 0.8592\n",
      "Epoch 19/24\n",
      "18/18 [==============================] - 2s 123ms/step - loss: 0.0047 - accuracy: 0.9981 - f1: 0.9985 - val_loss: 1.0473 - val_accuracy: 0.8380 - val_f1: 0.8620\n",
      "Epoch 20/24\n",
      "18/18 [==============================] - 2s 122ms/step - loss: 0.0015 - accuracy: 0.9992 - f1: 0.9993 - val_loss: 1.0763 - val_accuracy: 0.8380 - val_f1: 0.8620\n",
      "Epoch 21/24\n",
      "18/18 [==============================] - 2s 122ms/step - loss: 0.0019 - accuracy: 0.9984 - f1: 0.9987 - val_loss: 1.1901 - val_accuracy: 0.8451 - val_f1: 0.8666\n",
      "Epoch 22/24\n",
      "18/18 [==============================] - 2s 123ms/step - loss: 0.0073 - accuracy: 0.9974 - f1: 0.9976 - val_loss: 1.2465 - val_accuracy: 0.8451 - val_f1: 0.8638\n",
      "Epoch 23/24\n",
      "18/18 [==============================] - 2s 122ms/step - loss: 0.0040 - accuracy: 0.9998 - f1: 0.9999 - val_loss: 1.2209 - val_accuracy: 0.8451 - val_f1: 0.8638\n",
      "Epoch 24/24\n",
      "18/18 [==============================] - 2s 122ms/step - loss: 0.0100 - accuracy: 0.9973 - f1: 0.9973 - val_loss: 1.0813 - val_accuracy: 0.8380 - val_f1: 0.8568\n"
     ]
    },
    {
     "data": {
      "text/plain": [
       "<tensorflow.python.keras.callbacks.History at 0x7fee054412b0>"
      ]
     },
     "execution_count": null,
     "metadata": {},
     "output_type": "execute_result"
    }
   ],
   "source": [
    "max_lr = 3.981072e-05\n",
    "model = create_model(SIZE, 1)\n",
    "update_model(model, last_layer_weights_128)\n",
    "\n",
    "lr_scheduler = keras.callbacks.LearningRateScheduler(lambda epoch: lr_cycle(epoch, max_lr))\n",
    "optimizer = keras.optimizers.Adam(learning_rate=max_lr/10)\n",
    "model.compile(optimizer=optimizer, loss='binary_crossentropy', metrics=['accuracy', f1])\n",
    "epochs = 24\n",
    "model.fit(train_ds, epochs=epochs, validation_data=valid_ds, callbacks=[lr_scheduler])"
   ]
  },
  {
   "cell_type": "code",
   "execution_count": null,
   "id": "525df772-42c6-43e4-a8fc-e26c6096fa22",
   "metadata": {},
   "outputs": [
    {
     "name": "stdout",
     "output_type": "stream",
     "text": [
      "INFO:tensorflow:Assets written to: /mnt/d/practice/projects/swift_swallow/models//keras_PR_224/assets\n"
     ]
    }
   ],
   "source": [
    "model.save(f'{save_path}/keras_PR_224')"
   ]
  },
  {
   "cell_type": "code",
   "execution_count": null,
   "id": "43b7d42d-6297-4c83-b4ae-f8613d0772a8",
   "metadata": {},
   "outputs": [],
   "source": [
    "last_layer_weights_224 = model.layers[len(model.layers)-1].get_weights()"
   ]
  },
  {
   "cell_type": "markdown",
   "id": "ed20aeed-4531-453c-bfff-9057d6d6a09e",
   "metadata": {},
   "source": [
    "## SIZE 256"
   ]
  },
  {
   "cell_type": "code",
   "execution_count": null,
   "id": "76abefd1-64cc-4278-bfa7-6e80b499dac3",
   "metadata": {},
   "outputs": [],
   "source": [
    "SIZE = 256"
   ]
  },
  {
   "cell_type": "markdown",
   "id": "266a7c2f-e389-4dee-acb5-a918f49d5d3c",
   "metadata": {},
   "source": [
    "### Tạo lại dữ liệu"
   ]
  },
  {
   "cell_type": "code",
   "execution_count": null,
   "id": "1672bd9f-cb9a-4c59-a3a3-9febffbce028",
   "metadata": {},
   "outputs": [
    {
     "name": "stdout",
     "output_type": "stream",
     "text": [
      "Found 713 files belonging to 2 classes.\n",
      "Using 571 files for training.\n",
      "Found 713 files belonging to 2 classes.\n",
      "Using 142 files for validation.\n"
     ]
    }
   ],
   "source": [
    "train_ds, valid_ds = create_raw_ds()\n",
    "train_ds = create_preprocessed_ds(train_ds, SIZE)\n",
    "valid_ds = create_preprocessed_ds(valid_ds, SIZE)"
   ]
  },
  {
   "cell_type": "markdown",
   "id": "b4409e63-ffc8-4c3e-95f5-4a02bbad9d42",
   "metadata": {},
   "source": [
    "### Tìm lr"
   ]
  },
  {
   "cell_type": "code",
   "execution_count": null,
   "id": "6c2a7b6d-2fba-447c-9563-af965e899e15",
   "metadata": {},
   "outputs": [
    {
     "name": "stdout",
     "output_type": "stream",
     "text": [
      "Epoch 1/40\n",
      "18/18 [==============================] - 6s 204ms/step - loss: 0.8921 - accuracy: 0.8535 - f1: 0.8690 - val_loss: 1.3738 - val_accuracy: 0.8169 - val_f1: 0.8540\n",
      "Epoch 2/40\n",
      "18/18 [==============================] - 3s 152ms/step - loss: 0.9117 - accuracy: 0.8362 - f1: 0.8532 - val_loss: 1.3737 - val_accuracy: 0.8169 - val_f1: 0.8540\n",
      "Epoch 3/40\n",
      "18/18 [==============================] - 3s 150ms/step - loss: 0.9357 - accuracy: 0.8275 - f1: 0.8413 - val_loss: 1.3736 - val_accuracy: 0.8169 - val_f1: 0.8540\n",
      "Epoch 4/40\n",
      "18/18 [==============================] - 3s 150ms/step - loss: 0.8218 - accuracy: 0.8518 - f1: 0.8631 - val_loss: 1.3735 - val_accuracy: 0.8169 - val_f1: 0.8540\n",
      "Epoch 5/40\n",
      "18/18 [==============================] - 3s 149ms/step - loss: 0.9197 - accuracy: 0.8419 - f1: 0.8544 - val_loss: 1.3733 - val_accuracy: 0.8169 - val_f1: 0.8540\n",
      "Epoch 6/40\n",
      "18/18 [==============================] - 3s 149ms/step - loss: 1.0573 - accuracy: 0.8361 - f1: 0.8531 - val_loss: 1.3728 - val_accuracy: 0.8169 - val_f1: 0.8540\n",
      "Epoch 7/40\n",
      "18/18 [==============================] - 3s 146ms/step - loss: 0.8695 - accuracy: 0.8499 - f1: 0.8669 - val_loss: 1.3716 - val_accuracy: 0.8169 - val_f1: 0.8540\n",
      "Epoch 8/40\n",
      "18/18 [==============================] - 3s 146ms/step - loss: 1.0001 - accuracy: 0.8278 - f1: 0.8385 - val_loss: 1.3701 - val_accuracy: 0.8169 - val_f1: 0.8540\n",
      "Epoch 9/40\n",
      "18/18 [==============================] - 3s 149ms/step - loss: 1.0214 - accuracy: 0.8439 - f1: 0.8602 - val_loss: 1.3682 - val_accuracy: 0.8169 - val_f1: 0.8540\n",
      "Epoch 10/40\n",
      "18/18 [==============================] - 3s 147ms/step - loss: 0.9614 - accuracy: 0.8440 - f1: 0.8606 - val_loss: 1.3662 - val_accuracy: 0.8169 - val_f1: 0.8540\n",
      "Epoch 11/40\n",
      "18/18 [==============================] - 3s 147ms/step - loss: 1.0557 - accuracy: 0.8125 - f1: 0.8301 - val_loss: 1.3625 - val_accuracy: 0.8169 - val_f1: 0.8540\n",
      "Epoch 12/40\n",
      "18/18 [==============================] - 3s 149ms/step - loss: 0.9054 - accuracy: 0.8081 - f1: 0.8296 - val_loss: 1.3554 - val_accuracy: 0.8169 - val_f1: 0.8540\n",
      "Epoch 13/40\n",
      "18/18 [==============================] - 3s 147ms/step - loss: 1.0091 - accuracy: 0.8338 - f1: 0.8523 - val_loss: 1.3443 - val_accuracy: 0.8099 - val_f1: 0.8478\n",
      "Epoch 14/40\n",
      "18/18 [==============================] - 3s 146ms/step - loss: 0.9694 - accuracy: 0.8528 - f1: 0.8665 - val_loss: 1.3350 - val_accuracy: 0.8099 - val_f1: 0.8478\n",
      "Epoch 15/40\n",
      "18/18 [==============================] - 3s 175ms/step - loss: 0.8213 - accuracy: 0.8549 - f1: 0.8669 - val_loss: 1.3242 - val_accuracy: 0.8099 - val_f1: 0.8478\n",
      "Epoch 16/40\n",
      "18/18 [==============================] - 3s 154ms/step - loss: 0.7620 - accuracy: 0.8406 - f1: 0.8501 - val_loss: 1.2932 - val_accuracy: 0.7817 - val_f1: 0.8113\n",
      "Epoch 17/40\n",
      "18/18 [==============================] - 3s 147ms/step - loss: 0.8913 - accuracy: 0.8470 - f1: 0.8568 - val_loss: 1.2671 - val_accuracy: 0.7676 - val_f1: 0.7944\n",
      "Epoch 18/40\n",
      "18/18 [==============================] - 3s 147ms/step - loss: 0.5733 - accuracy: 0.8748 - f1: 0.8848 - val_loss: 1.2559 - val_accuracy: 0.7817 - val_f1: 0.8138\n",
      "Epoch 19/40\n",
      "18/18 [==============================] - 3s 147ms/step - loss: 0.5286 - accuracy: 0.8870 - f1: 0.8986 - val_loss: 1.1954 - val_accuracy: 0.7817 - val_f1: 0.8117\n",
      "Epoch 20/40\n",
      "18/18 [==============================] - 3s 153ms/step - loss: 0.4661 - accuracy: 0.8897 - f1: 0.8954 - val_loss: 1.1440 - val_accuracy: 0.8099 - val_f1: 0.8375\n",
      "Epoch 21/40\n",
      "18/18 [==============================] - 3s 149ms/step - loss: 0.2385 - accuracy: 0.9263 - f1: 0.9299 - val_loss: 1.1015 - val_accuracy: 0.8310 - val_f1: 0.8570\n",
      "Epoch 22/40\n",
      "18/18 [==============================] - 3s 152ms/step - loss: 0.1334 - accuracy: 0.9493 - f1: 0.9536 - val_loss: 1.1079 - val_accuracy: 0.8239 - val_f1: 0.8483\n",
      "Epoch 23/40\n",
      "18/18 [==============================] - 3s 152ms/step - loss: 0.1523 - accuracy: 0.9593 - f1: 0.9634 - val_loss: 1.1562 - val_accuracy: 0.8239 - val_f1: 0.8376\n",
      "Epoch 24/40\n",
      "18/18 [==============================] - 3s 152ms/step - loss: 0.0807 - accuracy: 0.9745 - f1: 0.9770 - val_loss: 1.1888 - val_accuracy: 0.8028 - val_f1: 0.8326\n",
      "Epoch 25/40\n",
      "18/18 [==============================] - 3s 152ms/step - loss: 0.0782 - accuracy: 0.9688 - f1: 0.9707 - val_loss: 1.2031 - val_accuracy: 0.8239 - val_f1: 0.8443\n",
      "Epoch 26/40\n",
      "18/18 [==============================] - 3s 151ms/step - loss: 0.0867 - accuracy: 0.9780 - f1: 0.9800 - val_loss: 1.3347 - val_accuracy: 0.8169 - val_f1: 0.8197\n",
      "Epoch 27/40\n",
      "18/18 [==============================] - 3s 152ms/step - loss: 0.1496 - accuracy: 0.9680 - f1: 0.9724 - val_loss: 2.2264 - val_accuracy: 0.7817 - val_f1: 0.8026\n",
      "Epoch 28/40\n",
      "18/18 [==============================] - 3s 148ms/step - loss: 0.4271 - accuracy: 0.9454 - f1: 0.9505 - val_loss: 3.0653 - val_accuracy: 0.8028 - val_f1: 0.8188\n",
      "Epoch 29/40\n",
      "18/18 [==============================] - 3s 155ms/step - loss: 0.6418 - accuracy: 0.9322 - f1: 0.9390 - val_loss: 7.0267 - val_accuracy: 0.7817 - val_f1: 0.8171\n",
      "Epoch 30/40\n",
      "18/18 [==============================] - 3s 156ms/step - loss: 1.8103 - accuracy: 0.9217 - f1: 0.9264 - val_loss: 10.2904 - val_accuracy: 0.7394 - val_f1: 0.7615\n",
      "Epoch 31/40\n",
      "18/18 [==============================] - 3s 152ms/step - loss: 2.8119 - accuracy: 0.9238 - f1: 0.9280 - val_loss: 13.6321 - val_accuracy: 0.8521 - val_f1: 0.8636\n",
      "Epoch 32/40\n",
      "18/18 [==============================] - 3s 187ms/step - loss: 3.4900 - accuracy: 0.9360 - f1: 0.9396 - val_loss: 22.6937 - val_accuracy: 0.7817 - val_f1: 0.8094\n",
      "Epoch 33/40\n",
      "18/18 [==============================] - 3s 177ms/step - loss: 7.2924 - accuracy: 0.9126 - f1: 0.9190 - val_loss: 55.3168 - val_accuracy: 0.7676 - val_f1: 0.8151\n",
      "Epoch 34/40\n",
      "18/18 [==============================] - 3s 171ms/step - loss: 38.1375 - accuracy: 0.8516 - f1: 0.8641 - val_loss: 76.5822 - val_accuracy: 0.8169 - val_f1: 0.8362\n",
      "Epoch 35/40\n",
      "18/18 [==============================] - 3s 147ms/step - loss: 86.0844 - accuracy: 0.8727 - f1: 0.8827 - val_loss: 222.4608 - val_accuracy: 0.7887 - val_f1: 0.7454\n",
      "Epoch 36/40\n",
      "18/18 [==============================] - 3s 155ms/step - loss: 89.5043 - accuracy: 0.9305 - f1: 0.9274 - val_loss: 352.1432 - val_accuracy: 0.7254 - val_f1: 0.7677\n",
      "Epoch 37/40\n",
      "18/18 [==============================] - 3s 150ms/step - loss: 32.7558 - accuracy: 0.9497 - f1: 0.9545 - val_loss: 432.1718 - val_accuracy: 0.7746 - val_f1: 0.8176\n",
      "Epoch 38/40\n",
      "18/18 [==============================] - 3s 157ms/step - loss: 48.5366 - accuracy: 0.9365 - f1: 0.9395 - val_loss: 760.0146 - val_accuracy: 0.7465 - val_f1: 0.8029\n",
      "Epoch 39/40\n",
      "18/18 [==============================] - 3s 153ms/step - loss: 85.1895 - accuracy: 0.9386 - f1: 0.9441 - val_loss: 599.7093 - val_accuracy: 0.7746 - val_f1: 0.8083\n",
      "Epoch 40/40\n",
      "18/18 [==============================] - 3s 149ms/step - loss: 250.2412 - accuracy: 0.9100 - f1: 0.9133 - val_loss: 3736.5308 - val_accuracy: 0.6338 - val_f1: 0.7498\n"
     ]
    }
   ],
   "source": [
    "bk.clear_session()\n",
    "# Tạo model mới:\n",
    "model = create_model(SIZE, 1)\n",
    "\n",
    "# Cập nhật weights cho layer cuối:\n",
    "update_model(model, last_layer_weights_224)\n",
    "\n",
    "# Tìm lr:\n",
    "record_lr(model, 40, train_ds, valid_ds)"
   ]
  },
  {
   "cell_type": "code",
   "execution_count": null,
   "id": "35a6063d-f431-4279-aa4c-fbceb5f077a5",
   "metadata": {},
   "outputs": [
    {
     "data": {
      "image/png": "[encoded data removed]",
      "text/plain": [
       "<Figure size 576x288 with 1 Axes>"
      ]
     },
     "metadata": {
      "needs_background": "light"
     },
     "output_type": "display_data"
    }
   ],
   "source": [
    "plot_lr(model.history.history)"
   ]
  },
  {
   "cell_type": "code",
   "execution_count": null,
   "id": "b8004639-afe7-4c99-83d9-ab3442e68125",
   "metadata": {},
   "outputs": [
    {
     "name": "stdout",
     "output_type": "stream",
     "text": [
      "max_lr = 2.5118865e-05\n"
     ]
    },
    {
     "data": {
      "text/plain": [
       "{1.5848931e-08: 0.034744083881378174,\n",
       " 2.5118863e-08: -0.01087963581085205,\n",
       " 3.981072e-08: 0.07042890787124634,\n",
       " 6.309573e-08: -0.060292065143585205,\n",
       " 1e-07: -0.054490089416503906,\n",
       " 1.5848931e-07: 0.07347142696380615,\n",
       " 2.5118865e-07: -0.07621949911117554,\n",
       " 3.9810718e-07: 0.060922861099243164,\n",
       " 6.3095735e-07: -0.07373112440109253,\n",
       " 1e-06: -0.02190631628036499,\n",
       " 1.5848932e-06: 0.07296448945999146,\n",
       " 2.5118864e-06: -0.06068497896194458,\n",
       " 3.9810716e-06: 0.09501045942306519,\n",
       " 6.3095736e-06: 0.10894542932510376,\n",
       " 1e-05: 0.01722562313079834,\n",
       " 1.5848931e-05: -0.02636617422103882,\n",
       " 2.5118865e-05: 0.253052294254303,\n",
       " 3.981072e-05: 0.006566107273101807,\n",
       " 6.309574e-05: 0.09794580936431885,\n",
       " 1e-04: 0.20213523507118225,\n",
       " 0.00015848932: 0.11759083718061447,\n",
       " 0.00025118864: -0.04473546892404556,\n",
       " 0.00039810716: 0.06237424165010452,\n",
       " 0.00063095737: 0.020706042647361755,\n",
       " 0.001: -0.04732339829206467,\n",
       " 0.0015848932: -0.06238563358783722,\n",
       " 0.0025118864: -0.47081437706947327,\n",
       " 0.0039810715: -0.12458306550979614}"
      ]
     },
     "execution_count": null,
     "metadata": {},
     "output_type": "execute_result"
    }
   ],
   "source": [
    "find_lr(model.history.history)"
   ]
  },
  {
   "cell_type": "markdown",
   "id": "349e5d7a-d7e8-4c2b-a1ff-59cdee6fff0f",
   "metadata": {},
   "source": [
    "### Bắt đầu lại"
   ]
  },
  {
   "cell_type": "code",
   "execution_count": null,
   "id": "3f013f04-dac9-4c05-adfb-eb9551b7dbc1",
   "metadata": {},
   "outputs": [
    {
     "name": "stdout",
     "output_type": "stream",
     "text": [
      "Epoch 1/8\n",
      "18/18 [==============================] - 6s 197ms/step - loss: 1.1408 - accuracy: 0.8017 - f1: 0.8139 - val_loss: 1.0927 - val_accuracy: 0.8239 - val_f1: 0.8328\n",
      "Epoch 2/8\n",
      "18/18 [==============================] - 3s 146ms/step - loss: 0.2099 - accuracy: 0.9573 - f1: 0.9624 - val_loss: 1.1224 - val_accuracy: 0.8521 - val_f1: 0.8678\n",
      "Epoch 3/8\n",
      "18/18 [==============================] - 3s 146ms/step - loss: 0.0746 - accuracy: 0.9827 - f1: 0.9851 - val_loss: 1.2379 - val_accuracy: 0.8239 - val_f1: 0.8510\n",
      "Epoch 4/8\n",
      "18/18 [==============================] - 3s 146ms/step - loss: 0.0849 - accuracy: 0.9777 - f1: 0.9792 - val_loss: 1.1160 - val_accuracy: 0.8451 - val_f1: 0.8634\n",
      "Epoch 5/8\n",
      "18/18 [==============================] - 3s 147ms/step - loss: 0.0135 - accuracy: 0.9939 - f1: 0.9940 - val_loss: 1.0715 - val_accuracy: 0.8380 - val_f1: 0.8568\n",
      "Epoch 6/8\n",
      "18/18 [==============================] - 3s 147ms/step - loss: 0.0430 - accuracy: 0.9856 - f1: 0.9869 - val_loss: 1.0906 - val_accuracy: 0.8380 - val_f1: 0.8586\n",
      "Epoch 7/8\n",
      "18/18 [==============================] - 3s 146ms/step - loss: 0.0270 - accuracy: 0.9912 - f1: 0.9931 - val_loss: 1.0726 - val_accuracy: 0.8310 - val_f1: 0.8527\n",
      "Epoch 8/8\n",
      "18/18 [==============================] - 3s 148ms/step - loss: 0.0134 - accuracy: 0.9935 - f1: 0.9947 - val_loss: 1.2010 - val_accuracy: 0.8451 - val_f1: 0.8655\n"
     ]
    },
    {
     "data": {
      "text/plain": [
       "<tensorflow.python.keras.callbacks.History at 0x7fee05923670>"
      ]
     },
     "execution_count": null,
     "metadata": {},
     "output_type": "execute_result"
    }
   ],
   "source": [
    "max_lr = 2.5118865e-05\n",
    "model = create_model(SIZE, 1)\n",
    "update_model(model, last_layer_weights_224)\n",
    "\n",
    "lr_scheduler = keras.callbacks.LearningRateScheduler(lambda epoch: lr_cycle(epoch, max_lr))\n",
    "optimizer = keras.optimizers.Adam(learning_rate=max_lr/10)\n",
    "model.compile(optimizer=optimizer, loss='binary_crossentropy', metrics=['accuracy', f1])\n",
    "epochs = 8\n",
    "model.fit(train_ds, epochs=epochs, validation_data=valid_ds, callbacks=[lr_scheduler])"
   ]
  },
  {
   "cell_type": "markdown",
   "id": "9daf585c-3c4e-4220-ac63-0e351292d0ee",
   "metadata": {},
   "source": [
    "Okay, chúng ta có thể tạm thời happy vs kết quả này. Với 8 epochs cuối, model đã tăng được cả accuracy và f1 lên khoảng 3.5%"
   ]
  },
  {
   "cell_type": "code",
   "execution_count": null,
   "id": "5c4bd896-cc3c-45a0-9833-4a8f6979ec79",
   "metadata": {},
   "outputs": [
    {
     "name": "stdout",
     "output_type": "stream",
     "text": [
      "INFO:tensorflow:Assets written to: /mnt/d/practice/projects/swift_swallow/models//keras_PR_256/assets\n"
     ]
    }
   ],
   "source": [
    "model.save(f'{save_path}/keras_PR_256')"
   ]
  },
  {
   "cell_type": "markdown",
   "id": "2eb5d8a3-c592-4d38-8635-dc0b4fdaddd1",
   "metadata": {},
   "source": [
    "# Label Smooth\n",
    "> Label smooth là phương pháp sử dụng callbacks của keras."
   ]
  },
  {
   "cell_type": "markdown",
   "id": "1091df18-7132-473e-aff8-3a6c3ba1b057",
   "metadata": {},
   "source": [
    "## Tạo lại dữ liệu"
   ]
  },
  {
   "cell_type": "code",
   "execution_count": null,
   "id": "0fb511fe-39f7-4c82-921a-9873d83a02b7",
   "metadata": {},
   "outputs": [
    {
     "name": "stdout",
     "output_type": "stream",
     "text": [
      "Found 713 files belonging to 2 classes.\n",
      "Using 571 files for training.\n",
      "Found 713 files belonging to 2 classes.\n",
      "Using 142 files for validation.\n"
     ]
    }
   ],
   "source": [
    "SIZE = 224\n",
    "train_ds, valid_ds = create_raw_ds()\n",
    "train_ds = create_preprocessed_ds(train_ds, SIZE)\n",
    "valid_ds = create_preprocessed_ds(valid_ds, SIZE)"
   ]
  },
  {
   "cell_type": "markdown",
   "id": "4a7e8550-b1b4-4763-9cd8-de2e4ef53563",
   "metadata": {},
   "source": [
    "## Tạo model"
   ]
  },
  {
   "cell_type": "code",
   "execution_count": null,
   "id": "8b56d019-a97d-486b-a8bf-edad99bb09cd",
   "metadata": {},
   "outputs": [
    {
     "name": "stdout",
     "output_type": "stream",
     "text": [
      "Epoch 1/40\n",
      "18/18 [==============================] - 21s 632ms/step - loss: 1.4358 - accuracy: 0.5516 - f1: 0.5887 - val_loss: 1.3270 - val_accuracy: 0.5141 - val_f1: 0.5991\n",
      "Epoch 2/40\n",
      "18/18 [==============================] - 2s 125ms/step - loss: 1.7344 - accuracy: 0.4689 - f1: 0.5048 - val_loss: 1.3267 - val_accuracy: 0.5141 - val_f1: 0.5991\n",
      "Epoch 3/40\n",
      "18/18 [==============================] - 2s 124ms/step - loss: 1.6221 - accuracy: 0.5003 - f1: 0.5329 - val_loss: 1.3263 - val_accuracy: 0.5141 - val_f1: 0.5991\n",
      "Epoch 4/40\n",
      "18/18 [==============================] - 2s 127ms/step - loss: 1.6364 - accuracy: 0.4978 - f1: 0.5641 - val_loss: 1.3257 - val_accuracy: 0.5141 - val_f1: 0.5991\n",
      "Epoch 5/40\n",
      "18/18 [==============================] - 2s 123ms/step - loss: 1.5603 - accuracy: 0.5566 - f1: 0.6040 - val_loss: 1.3247 - val_accuracy: 0.5141 - val_f1: 0.5991\n",
      "Epoch 6/40\n",
      "18/18 [==============================] - 2s 121ms/step - loss: 1.8020 - accuracy: 0.5139 - f1: 0.5507 - val_loss: 1.3230 - val_accuracy: 0.5141 - val_f1: 0.5991\n",
      "Epoch 7/40\n",
      "18/18 [==============================] - 2s 131ms/step - loss: 1.7524 - accuracy: 0.4904 - f1: 0.5248 - val_loss: 1.3203 - val_accuracy: 0.5141 - val_f1: 0.5991\n",
      "Epoch 8/40\n",
      "18/18 [==============================] - 2s 139ms/step - loss: 1.6342 - accuracy: 0.4852 - f1: 0.5160 - val_loss: 1.3163 - val_accuracy: 0.5141 - val_f1: 0.5991\n",
      "Epoch 9/40\n",
      "18/18 [==============================] - 2s 135ms/step - loss: 1.6163 - accuracy: 0.5049 - f1: 0.5337 - val_loss: 1.3102 - val_accuracy: 0.5141 - val_f1: 0.5991\n",
      "Epoch 10/40\n",
      "18/18 [==============================] - 2s 130ms/step - loss: 1.5319 - accuracy: 0.5379 - f1: 0.5839 - val_loss: 1.3007 - val_accuracy: 0.5141 - val_f1: 0.5991\n",
      "Epoch 11/40\n",
      "18/18 [==============================] - 7s 424ms/step - loss: 1.6470 - accuracy: 0.4756 - f1: 0.5270 - val_loss: 1.2862 - val_accuracy: 0.5141 - val_f1: 0.5991\n",
      "Epoch 12/40\n",
      "18/18 [==============================] - 2s 130ms/step - loss: 1.6078 - accuracy: 0.5285 - f1: 0.5707 - val_loss: 1.2622 - val_accuracy: 0.5141 - val_f1: 0.5980\n",
      "Epoch 13/40\n",
      "18/18 [==============================] - 2s 127ms/step - loss: 1.5694 - accuracy: 0.5339 - f1: 0.5882 - val_loss: 1.2287 - val_accuracy: 0.5282 - val_f1: 0.6042\n",
      "Epoch 14/40\n",
      "18/18 [==============================] - 2s 127ms/step - loss: 1.3398 - accuracy: 0.5758 - f1: 0.6148 - val_loss: 1.1853 - val_accuracy: 0.5493 - val_f1: 0.6238\n",
      "Epoch 15/40\n",
      "18/18 [==============================] - 2s 128ms/step - loss: 1.3939 - accuracy: 0.5486 - f1: 0.5889 - val_loss: 1.1236 - val_accuracy: 0.5845 - val_f1: 0.6546\n",
      "Epoch 16/40\n",
      "18/18 [==============================] - 2s 128ms/step - loss: 1.3076 - accuracy: 0.5573 - f1: 0.5992 - val_loss: 1.0431 - val_accuracy: 0.5986 - val_f1: 0.6434\n",
      "Epoch 17/40\n",
      "18/18 [==============================] - 2s 128ms/step - loss: 1.3082 - accuracy: 0.5961 - f1: 0.6219 - val_loss: 0.9607 - val_accuracy: 0.6127 - val_f1: 0.6631\n",
      "Epoch 18/40\n",
      "18/18 [==============================] - 2s 128ms/step - loss: 1.1909 - accuracy: 0.6148 - f1: 0.6545 - val_loss: 0.8983 - val_accuracy: 0.6479 - val_f1: 0.6733\n",
      "Epoch 19/40\n",
      "18/18 [==============================] - 2s 128ms/step - loss: 0.8524 - accuracy: 0.7113 - f1: 0.7296 - val_loss: 0.8012 - val_accuracy: 0.6690 - val_f1: 0.6975\n",
      "Epoch 20/40\n",
      "18/18 [==============================] - 2s 128ms/step - loss: 0.7580 - accuracy: 0.7508 - f1: 0.7736 - val_loss: 0.7533 - val_accuracy: 0.7535 - val_f1: 0.7869\n",
      "Epoch 21/40\n",
      "18/18 [==============================] - 2s 128ms/step - loss: 0.6296 - accuracy: 0.8200 - f1: 0.8346 - val_loss: 0.7582 - val_accuracy: 0.7676 - val_f1: 0.8039\n",
      "Epoch 22/40\n",
      "18/18 [==============================] - 2s 130ms/step - loss: 0.5392 - accuracy: 0.8603 - f1: 0.8763 - val_loss: 0.7110 - val_accuracy: 0.7676 - val_f1: 0.7984\n",
      "Epoch 23/40\n",
      "18/18 [==============================] - 2s 130ms/step - loss: 0.4846 - accuracy: 0.9045 - f1: 0.9082 - val_loss: 0.7785 - val_accuracy: 0.7394 - val_f1: 0.7792\n",
      "Epoch 24/40\n",
      "18/18 [==============================] - 2s 130ms/step - loss: 0.5261 - accuracy: 0.9038 - f1: 0.9145 - val_loss: 0.9790 - val_accuracy: 0.7394 - val_f1: 0.7753\n",
      "Epoch 25/40\n",
      "18/18 [==============================] - 2s 130ms/step - loss: 0.6099 - accuracy: 0.9063 - f1: 0.9065 - val_loss: 1.1109 - val_accuracy: 0.7394 - val_f1: 0.7941\n",
      "Epoch 26/40\n",
      "18/18 [==============================] - 2s 130ms/step - loss: 0.7807 - accuracy: 0.9176 - f1: 0.9273 - val_loss: 1.5162 - val_accuracy: 0.7324 - val_f1: 0.7595\n",
      "Epoch 27/40\n",
      "18/18 [==============================] - 2s 131ms/step - loss: 1.6345 - accuracy: 0.8446 - f1: 0.8566 - val_loss: 6.3295 - val_accuracy: 0.6127 - val_f1: 0.5690\n",
      "Epoch 28/40\n",
      "18/18 [==============================] - 2s 137ms/step - loss: 3.8749 - accuracy: 0.8357 - f1: 0.8521 - val_loss: 8.2721 - val_accuracy: 0.6549 - val_f1: 0.5725\n",
      "Epoch 29/40\n",
      "18/18 [==============================] - 2s 127ms/step - loss: 9.9788 - accuracy: 0.7926 - f1: 0.7503 - val_loss: 10.5838 - val_accuracy: 0.7676 - val_f1: 0.8055\n",
      "Epoch 30/40\n",
      "18/18 [==============================] - 2s 125ms/step - loss: 6.9800 - accuracy: 0.9240 - f1: 0.9306 - val_loss: 12.2106 - val_accuracy: 0.6972 - val_f1: 0.7142\n",
      "Epoch 31/40\n",
      "18/18 [==============================] - 2s 127ms/step - loss: 9.1209 - accuracy: 0.8770 - f1: 0.8847 - val_loss: 15.7497 - val_accuracy: 0.6901 - val_f1: 0.7328\n",
      "Epoch 32/40\n",
      "18/18 [==============================] - 2s 124ms/step - loss: 16.6252 - accuracy: 0.8451 - f1: 0.8500 - val_loss: 40.1160 - val_accuracy: 0.7183 - val_f1: 0.7683\n",
      "Epoch 33/40\n",
      "18/18 [==============================] - 2s 130ms/step - loss: 76.4016 - accuracy: 0.7435 - f1: 0.7695 - val_loss: 139.1283 - val_accuracy: 0.6620 - val_f1: 0.6173\n",
      "Epoch 34/40\n",
      "18/18 [==============================] - 2s 130ms/step - loss: 116.5674 - accuracy: 0.8020 - f1: 0.7433 - val_loss: 97.9403 - val_accuracy: 0.7465 - val_f1: 0.7762\n",
      "Epoch 35/40\n",
      "18/18 [==============================] - 2s 130ms/step - loss: 71.3685 - accuracy: 0.9467 - f1: 0.9496 - val_loss: 149.7849 - val_accuracy: 0.7042 - val_f1: 0.7665\n",
      "Epoch 36/40\n",
      "18/18 [==============================] - 2s 130ms/step - loss: 91.7932 - accuracy: 0.8889 - f1: 0.8904 - val_loss: 178.5585 - val_accuracy: 0.7606 - val_f1: 0.7766\n",
      "Epoch 37/40\n",
      "18/18 [==============================] - 2s 130ms/step - loss: 125.7058 - accuracy: 0.8890 - f1: 0.9006 - val_loss: 223.2791 - val_accuracy: 0.7394 - val_f1: 0.7538\n",
      "Epoch 38/40\n",
      "18/18 [==============================] - 2s 129ms/step - loss: 216.0195 - accuracy: 0.8567 - f1: 0.8702 - val_loss: 592.2999 - val_accuracy: 0.6901 - val_f1: 0.6710\n",
      "Epoch 39/40\n",
      "18/18 [==============================] - 2s 127ms/step - loss: 437.5406 - accuracy: 0.8511 - f1: 0.8510 - val_loss: 815.0168 - val_accuracy: 0.7113 - val_f1: 0.6892\n",
      "Epoch 40/40\n",
      "18/18 [==============================] - 2s 127ms/step - loss: 890.5484 - accuracy: 0.8369 - f1: 0.8287 - val_loss: 1706.4456 - val_accuracy: 0.7042 - val_f1: 0.7664\n"
     ]
    },
    {
     "data": {
      "text/plain": [
       "<tensorflow.python.keras.callbacks.History at 0x7fedb4c235e0>"
      ]
     },
     "execution_count": null,
     "metadata": {},
     "output_type": "execute_result"
    }
   ],
   "source": [
    "model = create_model(SIZE, 1)\n",
    "lr_scheduler = keras.callbacks.LearningRateScheduler(lambda epoch: 1e-8 * (10 **(epoch/5)))\n",
    "optimizer = keras.optimizers.Adam(learning_rate=1e-8)\n",
    "loss = keras.losses.BinaryCrossentropy(label_smoothing=.1)\n",
    "model.compile(optimizer=optimizer, loss=loss, metrics=['accuracy', f1])\n",
    "epochs = 40\n",
    "model.fit(train_ds, epochs=epochs, validation_data=valid_ds, callbacks=[lr_scheduler])"
   ]
  },
  {
   "cell_type": "markdown",
   "id": "f8f6b0a8-5f4d-4e5d-816a-8b57807720fc",
   "metadata": {},
   "source": [
    "### Tìm lr"
   ]
  },
  {
   "cell_type": "code",
   "execution_count": null,
   "id": "41d57d05-0783-4bd5-9cb4-836c5fc8a869",
   "metadata": {},
   "outputs": [
    {
     "data": {
      "image/png": "[encoded data removed]",
      "text/plain": [
       "<Figure size 576x288 with 1 Axes>"
      ]
     },
     "metadata": {
      "needs_background": "light"
     },
     "output_type": "display_data"
    }
   ],
   "source": [
    "plot_lr(model.history.history)"
   ]
  },
  {
   "cell_type": "code",
   "execution_count": null,
   "id": "1242d912-f318-4442-b390-e635e09ed630",
   "metadata": {},
   "outputs": [
    {
     "name": "stdout",
     "output_type": "stream",
     "text": [
      "max_lr = 3.981072e-05\n"
     ]
    },
    {
     "data": {
      "text/plain": [
       "{1.5848931e-08: -0.1525973081588745,\n",
       " 2.5118863e-08: 0.08116936683654785,\n",
       " 3.981072e-08: -0.025162220001220703,\n",
       " 6.309573e-08: 0.050028324127197266,\n",
       " 1e-07: -0.1158212423324585,\n",
       " 1.5848931e-07: -0.022794604301452637,\n",
       " 2.5118865e-07: 0.1597193479537964,\n",
       " 3.9810718e-07: -0.02150118350982666,\n",
       " 6.3095735e-07: -0.0020979642868041992,\n",
       " 1e-06: -0.050595998764038086,\n",
       " 1.5848932e-06: 0.06824398040771484,\n",
       " 2.5118864e-06: -0.031196951866149902,\n",
       " 3.9810716e-06: 0.21539652347564697,\n",
       " 6.3095736e-06: -0.03323030471801758,\n",
       " 1e-05: 0.11495590209960938,\n",
       " 1.5848931e-05: 0.05741298198699951,\n",
       " 2.5118865e-05: 0.14417827129364014,\n",
       " 3.981072e-05: 0.23001128435134888,\n",
       " 6.309574e-05: 0.12274301052093506,\n",
       " 1e-04: 0.136860191822052,\n",
       " 0.00015848932: 0.06842675805091858,\n",
       " 0.00025118864: 0.005341857671737671,\n",
       " 0.00039810716: -0.025567710399627686,\n",
       " 0.00063095737: -0.09342342615127563,\n",
       " 0.001: -0.30179834365844727}"
      ]
     },
     "execution_count": null,
     "metadata": {},
     "output_type": "execute_result"
    }
   ],
   "source": [
    "find_lr(model.history.history)"
   ]
  },
  {
   "cell_type": "markdown",
   "id": "7ccf23a3-16b9-47a8-a297-0ffeed966d26",
   "metadata": {},
   "source": [
    "### Bắt đầu lại"
   ]
  },
  {
   "cell_type": "code",
   "execution_count": null,
   "id": "bf45fb45-c6e0-41bb-a363-9f504f8b76c4",
   "metadata": {},
   "outputs": [
    {
     "name": "stdout",
     "output_type": "stream",
     "text": [
      "Epoch 1/80\n",
      "18/18 [==============================] - 6s 184ms/step - loss: 1.9950 - accuracy: 0.5785 - f1: 0.5642 - val_loss: 1.6369 - val_accuracy: 0.7535 - val_f1: 0.7863\n",
      "Epoch 2/80\n",
      "18/18 [==============================] - 2s 122ms/step - loss: 1.2077 - accuracy: 0.8916 - f1: 0.9036 - val_loss: 1.2421 - val_accuracy: 0.8099 - val_f1: 0.8202\n",
      "Epoch 3/80\n",
      "18/18 [==============================] - 2s 128ms/step - loss: 0.8649 - accuracy: 0.9329 - f1: 0.9375 - val_loss: 1.4814 - val_accuracy: 0.7535 - val_f1: 0.7966\n",
      "Epoch 4/80\n",
      "18/18 [==============================] - 2s 129ms/step - loss: 0.7728 - accuracy: 0.9674 - f1: 0.9696 - val_loss: 1.1524 - val_accuracy: 0.8028 - val_f1: 0.8229\n",
      "Epoch 5/80\n",
      "18/18 [==============================] - 2s 127ms/step - loss: 0.6881 - accuracy: 0.9823 - f1: 0.9846 - val_loss: 1.2163 - val_accuracy: 0.7676 - val_f1: 0.8087\n",
      "Epoch 6/80\n",
      "18/18 [==============================] - 2s 128ms/step - loss: 0.6920 - accuracy: 0.9786 - f1: 0.9779 - val_loss: 1.0897 - val_accuracy: 0.7887 - val_f1: 0.8174\n",
      "Epoch 7/80\n",
      "18/18 [==============================] - 2s 127ms/step - loss: 0.6627 - accuracy: 0.9831 - f1: 0.9858 - val_loss: 1.0998 - val_accuracy: 0.7676 - val_f1: 0.8031\n",
      "Epoch 8/80\n",
      "18/18 [==============================] - 2s 129ms/step - loss: 0.6559 - accuracy: 0.9822 - f1: 0.9832 - val_loss: 0.9942 - val_accuracy: 0.7746 - val_f1: 0.8104\n",
      "Epoch 9/80\n",
      "18/18 [==============================] - 2s 128ms/step - loss: 0.7042 - accuracy: 0.9603 - f1: 0.9616 - val_loss: 1.0843 - val_accuracy: 0.7606 - val_f1: 0.7764\n",
      "Epoch 10/80\n",
      "18/18 [==============================] - 2s 128ms/step - loss: 0.6962 - accuracy: 0.9453 - f1: 0.9504 - val_loss: 1.1590 - val_accuracy: 0.7394 - val_f1: 0.7479\n",
      "Epoch 11/80\n",
      "18/18 [==============================] - 2s 126ms/step - loss: 0.7039 - accuracy: 0.9586 - f1: 0.9640 - val_loss: 1.0471 - val_accuracy: 0.7394 - val_f1: 0.7641\n",
      "Epoch 12/80\n",
      "18/18 [==============================] - 2s 127ms/step - loss: 0.6645 - accuracy: 0.9550 - f1: 0.9589 - val_loss: 1.0197 - val_accuracy: 0.7465 - val_f1: 0.7670\n",
      "Epoch 13/80\n",
      "18/18 [==============================] - 2s 126ms/step - loss: 0.6084 - accuracy: 0.9802 - f1: 0.9809 - val_loss: 0.9902 - val_accuracy: 0.7535 - val_f1: 0.7780\n",
      "Epoch 14/80\n",
      "18/18 [==============================] - 2s 127ms/step - loss: 0.5790 - accuracy: 0.9897 - f1: 0.9901 - val_loss: 0.9686 - val_accuracy: 0.7535 - val_f1: 0.7780\n",
      "Epoch 15/80\n",
      "18/18 [==============================] - 2s 126ms/step - loss: 0.5891 - accuracy: 0.9865 - f1: 0.9885 - val_loss: 0.9881 - val_accuracy: 0.7183 - val_f1: 0.7468\n",
      "Epoch 16/80\n",
      "18/18 [==============================] - 2s 126ms/step - loss: 0.5997 - accuracy: 0.9706 - f1: 0.9723 - val_loss: 1.0503 - val_accuracy: 0.7254 - val_f1: 0.7578\n",
      "Epoch 17/80\n",
      "18/18 [==============================] - 2s 127ms/step - loss: 0.6214 - accuracy: 0.9635 - f1: 0.9667 - val_loss: 1.1813 - val_accuracy: 0.7606 - val_f1: 0.7911\n",
      "Epoch 18/80\n",
      "18/18 [==============================] - 2s 127ms/step - loss: 0.6711 - accuracy: 0.9456 - f1: 0.9472 - val_loss: 1.2094 - val_accuracy: 0.7606 - val_f1: 0.7907\n",
      "Epoch 19/80\n",
      "18/18 [==============================] - 2s 126ms/step - loss: 0.7802 - accuracy: 0.9256 - f1: 0.9316 - val_loss: 1.1421 - val_accuracy: 0.7183 - val_f1: 0.7432\n",
      "Epoch 20/80\n",
      "18/18 [==============================] - 2s 129ms/step - loss: 0.6366 - accuracy: 0.9650 - f1: 0.9709 - val_loss: 1.1606 - val_accuracy: 0.7606 - val_f1: 0.7687\n",
      "Epoch 21/80\n",
      "18/18 [==============================] - 2s 127ms/step - loss: 0.6047 - accuracy: 0.9772 - f1: 0.9796 - val_loss: 1.0388 - val_accuracy: 0.7465 - val_f1: 0.7678\n",
      "Epoch 22/80\n",
      "18/18 [==============================] - 3s 173ms/step - loss: 0.5999 - accuracy: 0.9653 - f1: 0.9662 - val_loss: 1.0162 - val_accuracy: 0.7817 - val_f1: 0.8050\n",
      "Epoch 23/80\n",
      "18/18 [==============================] - 2s 133ms/step - loss: 0.5864 - accuracy: 0.9813 - f1: 0.9819 - val_loss: 0.9573 - val_accuracy: 0.7676 - val_f1: 0.7897\n",
      "Epoch 24/80\n",
      "18/18 [==============================] - 2s 133ms/step - loss: 0.5746 - accuracy: 0.9702 - f1: 0.9726 - val_loss: 0.9140 - val_accuracy: 0.7817 - val_f1: 0.8029\n",
      "Epoch 25/80\n",
      "18/18 [==============================] - 2s 129ms/step - loss: 0.5760 - accuracy: 0.9598 - f1: 0.9617 - val_loss: 1.2318 - val_accuracy: 0.7324 - val_f1: 0.7130\n",
      "Epoch 26/80\n",
      "18/18 [==============================] - 2s 130ms/step - loss: 0.7793 - accuracy: 0.9133 - f1: 0.9189 - val_loss: 1.7319 - val_accuracy: 0.7465 - val_f1: 0.7927\n",
      "Epoch 27/80\n",
      "18/18 [==============================] - 2s 129ms/step - loss: 0.8113 - accuracy: 0.9348 - f1: 0.9393 - val_loss: 1.1754 - val_accuracy: 0.8099 - val_f1: 0.8103\n",
      "Epoch 28/80\n",
      "18/18 [==============================] - 2s 129ms/step - loss: 0.7035 - accuracy: 0.9699 - f1: 0.9693 - val_loss: 1.0863 - val_accuracy: 0.8239 - val_f1: 0.8364\n",
      "Epoch 29/80\n",
      "18/18 [==============================] - 2s 129ms/step - loss: 0.6348 - accuracy: 0.9776 - f1: 0.9795 - val_loss: 1.0710 - val_accuracy: 0.7958 - val_f1: 0.8152\n",
      "Epoch 30/80\n",
      "18/18 [==============================] - 2s 128ms/step - loss: 0.6190 - accuracy: 0.9709 - f1: 0.9713 - val_loss: 1.0958 - val_accuracy: 0.7958 - val_f1: 0.8174\n",
      "Epoch 31/80\n",
      "18/18 [==============================] - 2s 127ms/step - loss: 0.6158 - accuracy: 0.9899 - f1: 0.9916 - val_loss: 1.0237 - val_accuracy: 0.8028 - val_f1: 0.8215\n",
      "Epoch 32/80\n",
      "18/18 [==============================] - 2s 129ms/step - loss: 0.6231 - accuracy: 0.9679 - f1: 0.9667 - val_loss: 1.0181 - val_accuracy: 0.7887 - val_f1: 0.8099\n",
      "Epoch 33/80\n",
      "18/18 [==============================] - 2s 129ms/step - loss: 0.6507 - accuracy: 0.9572 - f1: 0.9578 - val_loss: 1.6133 - val_accuracy: 0.7535 - val_f1: 0.7927\n",
      "Epoch 34/80\n",
      "18/18 [==============================] - 2s 129ms/step - loss: 0.8299 - accuracy: 0.9088 - f1: 0.9158 - val_loss: 1.1828 - val_accuracy: 0.7958 - val_f1: 0.7778\n",
      "Epoch 35/80\n",
      "18/18 [==============================] - 2s 130ms/step - loss: 0.7958 - accuracy: 0.9587 - f1: 0.9587 - val_loss: 1.5508 - val_accuracy: 0.7887 - val_f1: 0.8298\n",
      "Epoch 36/80\n",
      "18/18 [==============================] - 2s 131ms/step - loss: 0.7755 - accuracy: 0.9578 - f1: 0.9610 - val_loss: 1.3986 - val_accuracy: 0.8028 - val_f1: 0.8372\n",
      "Epoch 37/80\n",
      "18/18 [==============================] - 2s 128ms/step - loss: 0.8140 - accuracy: 0.9452 - f1: 0.9484 - val_loss: 1.1199 - val_accuracy: 0.8169 - val_f1: 0.8100\n",
      "Epoch 38/80\n",
      "18/18 [==============================] - 2s 128ms/step - loss: 0.6912 - accuracy: 0.9748 - f1: 0.9761 - val_loss: 1.1388 - val_accuracy: 0.8169 - val_f1: 0.8297\n",
      "Epoch 39/80\n",
      "18/18 [==============================] - 2s 129ms/step - loss: 0.6371 - accuracy: 0.9925 - f1: 0.9937 - val_loss: 1.0488 - val_accuracy: 0.8169 - val_f1: 0.8270\n",
      "Epoch 40/80\n",
      "18/18 [==============================] - 2s 131ms/step - loss: 0.6557 - accuracy: 0.9602 - f1: 0.9563 - val_loss: 1.0929 - val_accuracy: 0.7958 - val_f1: 0.8078\n",
      "Epoch 41/80\n",
      "18/18 [==============================] - 2s 128ms/step - loss: 0.6455 - accuracy: 0.9719 - f1: 0.9752 - val_loss: 1.0786 - val_accuracy: 0.7887 - val_f1: 0.8009\n",
      "Epoch 42/80\n",
      "18/18 [==============================] - 2s 129ms/step - loss: 0.8062 - accuracy: 0.9075 - f1: 0.9141 - val_loss: 1.7476 - val_accuracy: 0.7817 - val_f1: 0.8046\n",
      "Epoch 43/80\n",
      "18/18 [==============================] - 2s 128ms/step - loss: 0.7127 - accuracy: 0.9756 - f1: 0.9774 - val_loss: 1.3714 - val_accuracy: 0.7817 - val_f1: 0.7988\n",
      "Epoch 44/80\n",
      "18/18 [==============================] - 2s 129ms/step - loss: 0.6491 - accuracy: 0.9745 - f1: 0.9773 - val_loss: 1.3532 - val_accuracy: 0.7817 - val_f1: 0.7880\n",
      "Epoch 45/80\n",
      "18/18 [==============================] - 2s 128ms/step - loss: 0.6299 - accuracy: 0.9826 - f1: 0.9843 - val_loss: 1.3501 - val_accuracy: 0.7817 - val_f1: 0.7886\n",
      "Epoch 46/80\n",
      "18/18 [==============================] - 2s 127ms/step - loss: 0.6283 - accuracy: 0.9757 - f1: 0.9772 - val_loss: 1.2763 - val_accuracy: 0.7958 - val_f1: 0.8153\n",
      "Epoch 47/80\n",
      "18/18 [==============================] - 2s 128ms/step - loss: 0.6142 - accuracy: 0.9764 - f1: 0.9777 - val_loss: 1.1907 - val_accuracy: 0.7887 - val_f1: 0.8010\n",
      "Epoch 48/80\n",
      "18/18 [==============================] - 2s 128ms/step - loss: 0.6183 - accuracy: 0.9718 - f1: 0.9730 - val_loss: 1.1758 - val_accuracy: 0.7887 - val_f1: 0.8174\n",
      "Epoch 49/80\n",
      "18/18 [==============================] - 2s 128ms/step - loss: 0.6286 - accuracy: 0.9681 - f1: 0.9711 - val_loss: 1.3224 - val_accuracy: 0.7254 - val_f1: 0.6833\n",
      "Epoch 50/80\n",
      "18/18 [==============================] - 2s 128ms/step - loss: 0.8711 - accuracy: 0.8979 - f1: 0.8987 - val_loss: 1.7611 - val_accuracy: 0.7676 - val_f1: 0.8009\n",
      "Epoch 51/80\n",
      "18/18 [==============================] - 2s 127ms/step - loss: 0.9210 - accuracy: 0.9082 - f1: 0.9116 - val_loss: 1.7338 - val_accuracy: 0.7465 - val_f1: 0.7855\n",
      "Epoch 52/80\n",
      "18/18 [==============================] - 2s 130ms/step - loss: 0.8018 - accuracy: 0.9363 - f1: 0.9355 - val_loss: 1.3867 - val_accuracy: 0.7746 - val_f1: 0.7872\n",
      "Epoch 53/80\n",
      "18/18 [==============================] - 2s 129ms/step - loss: 0.7258 - accuracy: 0.9759 - f1: 0.9795 - val_loss: 1.3461 - val_accuracy: 0.7394 - val_f1: 0.7637\n",
      "Epoch 54/80\n",
      "18/18 [==============================] - 2s 130ms/step - loss: 0.7056 - accuracy: 0.9757 - f1: 0.9782 - val_loss: 1.2633 - val_accuracy: 0.7746 - val_f1: 0.7962\n",
      "Epoch 55/80\n",
      "18/18 [==============================] - 2s 128ms/step - loss: 0.6840 - accuracy: 0.9835 - f1: 0.9843 - val_loss: 1.2486 - val_accuracy: 0.7676 - val_f1: 0.7859\n",
      "Epoch 56/80\n",
      "18/18 [==============================] - 2s 128ms/step - loss: 0.6882 - accuracy: 0.9675 - f1: 0.9707 - val_loss: 1.2518 - val_accuracy: 0.7324 - val_f1: 0.7725\n",
      "Epoch 57/80\n",
      "18/18 [==============================] - 2s 127ms/step - loss: 0.6765 - accuracy: 0.9511 - f1: 0.9552 - val_loss: 1.3408 - val_accuracy: 0.7606 - val_f1: 0.7693\n",
      "Epoch 58/80\n",
      "18/18 [==============================] - 2s 127ms/step - loss: 0.8457 - accuracy: 0.8972 - f1: 0.8983 - val_loss: 1.9402 - val_accuracy: 0.7676 - val_f1: 0.8159\n",
      "Epoch 59/80\n",
      "18/18 [==============================] - 2s 130ms/step - loss: 0.8950 - accuracy: 0.9487 - f1: 0.9538 - val_loss: 1.3947 - val_accuracy: 0.8028 - val_f1: 0.8221\n",
      "Epoch 60/80\n",
      "18/18 [==============================] - 2s 129ms/step - loss: 0.9632 - accuracy: 0.9484 - f1: 0.9527 - val_loss: 1.9436 - val_accuracy: 0.6831 - val_f1: 0.6050\n",
      "Epoch 61/80\n",
      "18/18 [==============================] - 2s 129ms/step - loss: 0.9489 - accuracy: 0.9349 - f1: 0.9299 - val_loss: 1.5999 - val_accuracy: 0.7676 - val_f1: 0.8113\n",
      "Epoch 62/80\n",
      "18/18 [==============================] - 2s 131ms/step - loss: 0.7808 - accuracy: 0.9874 - f1: 0.9904 - val_loss: 1.2597 - val_accuracy: 0.7817 - val_f1: 0.8045\n",
      "Epoch 63/80\n",
      "18/18 [==============================] - 2s 128ms/step - loss: 0.7176 - accuracy: 0.9881 - f1: 0.9892 - val_loss: 1.2533 - val_accuracy: 0.7887 - val_f1: 0.7671\n",
      "Epoch 64/80\n",
      "18/18 [==============================] - 2s 130ms/step - loss: 0.6952 - accuracy: 0.9837 - f1: 0.9854 - val_loss: 1.1483 - val_accuracy: 0.7817 - val_f1: 0.8127\n",
      "Epoch 65/80\n",
      "18/18 [==============================] - 2s 128ms/step - loss: 0.7036 - accuracy: 0.9707 - f1: 0.9752 - val_loss: 1.6297 - val_accuracy: 0.7113 - val_f1: 0.7632\n",
      "Epoch 66/80\n",
      "18/18 [==============================] - 2s 138ms/step - loss: 0.8536 - accuracy: 0.9336 - f1: 0.9372 - val_loss: 1.4284 - val_accuracy: 0.7606 - val_f1: 0.7793\n",
      "Epoch 67/80\n",
      "18/18 [==============================] - 2s 126ms/step - loss: 0.7500 - accuracy: 0.9587 - f1: 0.9626 - val_loss: 1.3076 - val_accuracy: 0.7958 - val_f1: 0.8237\n",
      "Epoch 68/80\n",
      "18/18 [==============================] - 2s 128ms/step - loss: 0.7148 - accuracy: 0.9714 - f1: 0.9742 - val_loss: 1.2813 - val_accuracy: 0.7746 - val_f1: 0.7908\n",
      "Epoch 69/80\n",
      "18/18 [==============================] - 2s 128ms/step - loss: 0.7633 - accuracy: 0.9463 - f1: 0.9465 - val_loss: 1.3020 - val_accuracy: 0.7817 - val_f1: 0.8133\n",
      "Epoch 70/80\n",
      "18/18 [==============================] - 2s 132ms/step - loss: 0.6747 - accuracy: 0.9784 - f1: 0.9783 - val_loss: 1.2445 - val_accuracy: 0.7817 - val_f1: 0.8128\n",
      "Epoch 71/80\n",
      "18/18 [==============================] - 2s 128ms/step - loss: 0.6779 - accuracy: 0.9757 - f1: 0.9758 - val_loss: 1.2006 - val_accuracy: 0.7606 - val_f1: 0.7983\n",
      "Epoch 72/80\n",
      "18/18 [==============================] - 2s 127ms/step - loss: 0.6334 - accuracy: 0.9797 - f1: 0.9806 - val_loss: 1.0973 - val_accuracy: 0.7887 - val_f1: 0.8011\n",
      "Epoch 73/80\n",
      "18/18 [==============================] - 2s 123ms/step - loss: 0.6871 - accuracy: 0.9601 - f1: 0.9661 - val_loss: 1.6469 - val_accuracy: 0.7113 - val_f1: 0.7212\n",
      "Epoch 74/80\n",
      "18/18 [==============================] - 2s 123ms/step - loss: 0.8074 - accuracy: 0.9263 - f1: 0.9326 - val_loss: 1.5692 - val_accuracy: 0.7606 - val_f1: 0.7900\n",
      "Epoch 75/80\n",
      "18/18 [==============================] - 2s 123ms/step - loss: 0.8446 - accuracy: 0.9418 - f1: 0.9450 - val_loss: 1.4320 - val_accuracy: 0.7746 - val_f1: 0.8074\n",
      "Epoch 76/80\n",
      "18/18 [==============================] - 2s 124ms/step - loss: 0.7396 - accuracy: 0.9661 - f1: 0.9693 - val_loss: 1.3358 - val_accuracy: 0.7676 - val_f1: 0.7568\n",
      "Epoch 77/80\n",
      "18/18 [==============================] - 2s 124ms/step - loss: 0.7538 - accuracy: 0.9512 - f1: 0.9494 - val_loss: 1.2689 - val_accuracy: 0.7606 - val_f1: 0.7917\n",
      "Epoch 78/80\n",
      "18/18 [==============================] - 2s 123ms/step - loss: 0.7105 - accuracy: 0.9794 - f1: 0.9793 - val_loss: 1.1901 - val_accuracy: 0.7676 - val_f1: 0.8006\n",
      "Epoch 79/80\n",
      "18/18 [==============================] - 2s 124ms/step - loss: 0.6846 - accuracy: 0.9762 - f1: 0.9785 - val_loss: 1.0922 - val_accuracy: 0.7817 - val_f1: 0.7925\n",
      "Epoch 80/80\n",
      "18/18 [==============================] - 2s 124ms/step - loss: 0.6715 - accuracy: 0.9751 - f1: 0.9730 - val_loss: 1.0744 - val_accuracy: 0.7676 - val_f1: 0.7589\n"
     ]
    },
    {
     "data": {
      "text/plain": [
       "<tensorflow.python.keras.callbacks.History at 0x7fedf43e8f10>"
      ]
     },
     "execution_count": null,
     "metadata": {},
     "output_type": "execute_result"
    }
   ],
   "source": [
    "max_lr = 3.981072e-05\n",
    "model = create_model(SIZE, 1)\n",
    "lr_scheduler = keras.callbacks.LearningRateScheduler(lambda epoch: lr_cycle(epoch, max_lr))\n",
    "optimizer = keras.optimizers.Adam(learning_rate=max_lr/10)\n",
    "loss = keras.losses.BinaryCrossentropy(label_smoothing=.1)\n",
    "model.compile(optimizer=optimizer, loss=loss, metrics=['accuracy', f1])\n",
    "epochs = 80\n",
    "model.fit(train_ds, epochs=epochs, validation_data=valid_ds, callbacks=[lr_scheduler])"
   ]
  },
  {
   "cell_type": "markdown",
   "id": "66c891f0-0d1c-41ab-acf8-ad75bed0509a",
   "metadata": {},
   "source": [
    "lable smoothing nếu chỉ thực hiện 1 mình thì kết quả không thực sự tốt hẳn. Chúng ta cần kết hợp vs các phương pháp khác để tăng kết quả của metrics."
   ]
  },
  {
   "cell_type": "code",
   "execution_count": null,
   "id": "7074f8bc-9c1e-4ee5-89cb-0d40fb700df9",
   "metadata": {},
   "outputs": [],
   "source": []
  }
 ],
 "metadata": {
  "kernelspec": {
   "display_name": "Python 3",
   "language": "python",
   "name": "python3"
  }
 },
 "nbformat": 4,
 "nbformat_minor": 5
}
